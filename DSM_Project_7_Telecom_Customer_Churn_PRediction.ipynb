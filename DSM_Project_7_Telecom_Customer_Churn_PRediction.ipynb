{
  "nbformat": 4,
  "nbformat_minor": 0,
  "metadata": {
    "colab": {
      "name": "DSM Project 7 Telecom Customer Churn PRediction.ipynb",
      "version": "0.3.2",
      "provenance": [],
      "collapsed_sections": [],
      "include_colab_link": true
    },
    "kernelspec": {
      "display_name": "Data_Science",
      "language": "python",
      "name": "data_science"
    },
    "accelerator": "GPU"
  },
  "cells": [
    {
      "cell_type": "markdown",
      "metadata": {
        "id": "view-in-github",
        "colab_type": "text"
      },
      "source": [
        "<a href=\"https://colab.research.google.com/github/potdarjs/DSM-Project-7-Churn-Prediction/blob/master/DSM_Project_7_Telecom_Customer_Churn_PRediction.ipynb\" target=\"_parent\"><img src=\"https://colab.research.google.com/assets/colab-badge.svg\" alt=\"Open In Colab\"/></a>"
      ]
    },
    {
      "metadata": {
        "id": "9MbTw79fxJQT",
        "colab_type": "text"
      },
      "cell_type": "markdown",
      "source": [
        "## Data Science Masters - Project 7\n",
        "# Telecom Customer Churn Prediction"
      ]
    },
    {
      "metadata": {
        "id": "q3pot0IOlk54",
        "colab_type": "text"
      },
      "cell_type": "markdown",
      "source": [
        "## Contents\n",
        "\n",
        "- <a href='#1'>1. Introduction </a>\n",
        "- <a href='#2'>2. Problem statement </a>\n",
        "- <a href='#3'>3. Data Source  </a>\n",
        "- <a href='#4'>4. Data Description </a>\n",
        "- <a href='#5'>5. Identify the target variable</a>\n",
        "- <a href='#6'>6. Read the data </a>\n",
        "- <a href='#7'>7. Inspect the data </a> \n",
        "     - <a href='#7.1'> Check few samples</a>\n",
        "     - <a href='#7.1'> Check the data types</a>\n",
        "     - <a href='#7.1'> Check the initial summary</a>\n",
        "- <a href='#7'>8. Data Manipulation  </a>   \n",
        "     - <a href='#8.1'> Check for missing values</a>\n",
        "     - <a href='#8.2'> Column string fomatting </a>\n",
        "     - <a href='#8.3'> Data fomatting </a>\n",
        "     - <a href='#8.4'> Imputation </a>\n",
        "- <a href='#9'>9. Exploratory Data Analysis</a>\n",
        "    - <a href='#9.1'> univariate analysis </a>\n",
        "    - <a href='#9.2'> class ditribution in data</a>\n",
        "    - <a href='#9.3'> Varibles distribution according to class</a>\n",
        "    - <a href='#9.4'> Bucketing </a>\n",
        "    - <a href='#9.5'> Correlation Matrix</a>\n",
        "    - <a href='#9.6'> feature elimination / addition / transformation </a>\n",
        "- <a href='#10'>10. Data preprocessing</a>\n",
        "    - <a href='#10.1'> Encoding categorical variable </a>\n",
        "    - <a href='#10.2'> Normalizing features </a>\n",
        "    - <a href='#10.3'> spliting train/val/test data </a>\n",
        "    - <a href='#'> feature compression </a>\n",
        "- <a href='#11'>11. Model Building</a>\n",
        "    - <a href='#11.1'> Baseline Model</a>\n",
        "    - <a href='#11.2'> Model Selection </a>\n",
        "    - <a href='#11.3'> Hyper parameter Selection </a>\n",
        "- <a href='#12'>12. Model Performances</a>\n",
        "    - <a href='#12.1'> model performance metrics</a>\n",
        "    - <a href='#12.2'> Compare model metrics</a>\n",
        "    - <a href='#12.3'> Confusion matrices for models</a>\n",
        "    - <a href='#12.4'> ROC - Curves  for models</a>\n",
        "    - <a href='#12.5'> Precision recall curves</a>\n",
        "- <a href='#13'>13. Model Interpretation</a>\n",
        "- <a href='#14'>14. Model Deployment</a>\n"
      ]
    },
    {
      "metadata": {
        "id": "FIT8l9q3lk56",
        "colab_type": "text"
      },
      "cell_type": "markdown",
      "source": [
        "# <a id='1'>1.Introduction</a>"
      ]
    },
    {
      "metadata": {
        "id": "l7FL0jsxlk56",
        "colab_type": "text"
      },
      "cell_type": "markdown",
      "source": [
        "We have the customer data for a **telecom** company which offers many services like phone, internet, TV Streaming and Movie Streaming.  The telecommunications company is concerned about the number of customers leaving their landline business for cable competitors. They need to understand who is leaving. Imagine that you’re an analyst at this company and you have to find out who is leaving and why."
      ]
    },
    {
      "metadata": {
        "id": "bRh02dVDlk57",
        "colab_type": "text"
      },
      "cell_type": "markdown",
      "source": [
        "# <a id='2'>2.Problem Statement</a>"
      ]
    },
    {
      "metadata": {
        "id": "ZqxAn6mslk58",
        "colab_type": "text"
      },
      "cell_type": "markdown",
      "source": [
        "\n",
        "\"Find the Best model to predict behavior to retain customers. You can analyze all relevant customer data and develop focused customer retention programs.\"\n"
      ]
    },
    {
      "metadata": {
        "id": "ogkt5sjqlk59",
        "colab_type": "text"
      },
      "cell_type": "markdown",
      "source": [
        "# <a id='3'>3. Data Source </a>"
      ]
    },
    {
      "metadata": {
        "id": "tEyQoS9wlk5-",
        "colab_type": "text"
      },
      "cell_type": "markdown",
      "source": [
        "Available at : [IBM watson analytics page](https://community.watsonanalytics.com/wp-content/uploads/2015/03/WA_Fn-UseC_-Telco-Customer-Churn.csv?cm_mc_uid=14714377267115403444551&cm_mc_sid_50200000=12578191540344455127&cm_mc_sid_52640000=36692891540344455130)\n"
      ]
    },
    {
      "metadata": {
        "id": "9xcjKYpblk5_",
        "colab_type": "text"
      },
      "cell_type": "markdown",
      "source": [
        "# <a id='4'>4. Data Description </a>"
      ]
    },
    {
      "metadata": {
        "id": "PQiP16lHlk5_",
        "colab_type": "text"
      },
      "cell_type": "markdown",
      "source": [
        "This data set provides info to help you predict behavior to retain customers.\n",
        "The data set includes information about:\n",
        "\n",
        "Customers who left within the last month – the column is called Churn\n",
        "\n",
        "Services that each customer has signed up for – phone, multiple lines, internet, online security, online backup, device protection, tech support, and streaming TV and movies\n",
        "\n",
        "Customer account information – how long they’ve been a customer, contract, payment method, paperless billing, monthly charges, and total charges\n",
        "\n",
        "Demographic info about customers – gender, age range, and if they have partners and dependents\n",
        "\n",
        "We have to analyze all relevant customer data and develop focused customer retention programs."
      ]
    },
    {
      "metadata": {
        "id": "otDQWAt2lk6A",
        "colab_type": "text"
      },
      "cell_type": "markdown",
      "source": [
        "# <a id='5'>5. Identify the target variable </a>"
      ]
    },
    {
      "metadata": {
        "id": "ra9aOJKdlk6B",
        "colab_type": "text"
      },
      "cell_type": "markdown",
      "source": [
        "The Goal is to predict whether or not a particular customer is likely to retain services. This is represented by the Churn column in dataset. Churn=Yes means customer leaves the company, whereas Churn=No implies customer is retained by the company."
      ]
    },
    {
      "metadata": {
        "id": "m0yQzr1Ilk6C",
        "colab_type": "text"
      },
      "cell_type": "markdown",
      "source": [
        "# <a id='6'>6. Read the data </a>"
      ]
    },
    {
      "metadata": {
        "id": "itni5TR5lk6C",
        "colab_type": "code",
        "colab": {}
      },
      "cell_type": "code",
      "source": [
        "# Import Libraries\n",
        "import numpy as np # linear algebra\n",
        "import pandas as pd # data processing, CSV file I/O (e.g. pd.read_csv)\n",
        "from pandas import read_csv\n",
        "import matplotlib.pyplot as plt\n",
        "%matplotlib inline\n",
        "import seaborn as sns\n",
        "from google.colab import drive"
      ],
      "execution_count": 0,
      "outputs": []
    },
    {
      "metadata": {
        "id": "4FFNo81EVmGH",
        "colab_type": "code",
        "colab": {}
      },
      "cell_type": "code",
      "source": [
        "# Warnings Library - Ignore warnings\n",
        "import warnings\n",
        "warnings.filterwarnings('ignore')"
      ],
      "execution_count": 0,
      "outputs": []
    },
    {
      "metadata": {
        "id": "8MC-KAa0_bXI",
        "colab_type": "code",
        "outputId": "381d5ba1-d3b9-4aa2-a52d-f63485ec21a9",
        "colab": {
          "resources": {
            "http://localhost:8080/nbextensions/google.colab/files.js": {
              "data": "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",
              "ok": true,
              "headers": [
                [
                  "content-type",
                  "application/javascript"
                ]
              ],
              "status": 200,
              "status_text": ""
            }
          },
          "base_uri": "https://localhost:8080/",
          "height": 74
        }
      },
      "cell_type": "code",
      "source": [
        "from google.colab import files\n",
        "uploaded = files.upload()\n",
        "import io\n"
      ],
      "execution_count": 0,
      "outputs": [
        {
          "output_type": "display_data",
          "data": {
            "text/plain": [
              "<IPython.core.display.HTML object>"
            ],
            "text/html": [
              "\n",
              "     <input type=\"file\" id=\"files-ab07cc19-cda0-418f-846a-94a9dc1634e3\" name=\"files[]\" multiple disabled />\n",
              "     <output id=\"result-ab07cc19-cda0-418f-846a-94a9dc1634e3\">\n",
              "      Upload widget is only available when the cell has been executed in the\n",
              "      current browser session. Please rerun this cell to enable.\n",
              "      </output>\n",
              "      <script src=\"/nbextensions/google.colab/files.js\"></script> "
            ]
          },
          "metadata": {
            "tags": []
          }
        },
        {
          "output_type": "stream",
          "text": [
            "Saving WA_Fn-UseC_-Telco-Customer-Churn.csv to WA_Fn-UseC_-Telco-Customer-Churn.csv\n"
          ],
          "name": "stdout"
        }
      ]
    },
    {
      "metadata": {
        "id": "tyLhyF4-3m05",
        "colab_type": "code",
        "colab": {}
      },
      "cell_type": "code",
      "source": [
        "df = pd.read_csv(io.StringIO(uploaded['WA_Fn-UseC_-Telco-Customer-Churn.csv'].decode('utf-8')))"
      ],
      "execution_count": 0,
      "outputs": []
    },
    {
      "metadata": {
        "id": "dgbPft4Jlk6I",
        "colab_type": "text"
      },
      "cell_type": "markdown",
      "source": [
        "# <a id='7'>7. Inspect the data </a>"
      ]
    },
    {
      "metadata": {
        "id": "gSUFweAUUVHW",
        "colab_type": "text"
      },
      "cell_type": "markdown",
      "source": [
        "Lets have the feel of the dataset by looking at the variables and some values"
      ]
    },
    {
      "metadata": {
        "scrolled": true,
        "id": "QxkC4Hnylk6J",
        "colab_type": "code",
        "outputId": "ee830354-3bb6-46f2-9491-246e7964b489",
        "colab": {
          "base_uri": "https://localhost:8080/",
          "height": 328
        }
      },
      "cell_type": "code",
      "source": [
        "df.head()"
      ],
      "execution_count": 0,
      "outputs": [
        {
          "output_type": "execute_result",
          "data": {
            "text/html": [
              "<div>\n",
              "<style scoped>\n",
              "    .dataframe tbody tr th:only-of-type {\n",
              "        vertical-align: middle;\n",
              "    }\n",
              "\n",
              "    .dataframe tbody tr th {\n",
              "        vertical-align: top;\n",
              "    }\n",
              "\n",
              "    .dataframe thead th {\n",
              "        text-align: right;\n",
              "    }\n",
              "</style>\n",
              "<table border=\"1\" class=\"dataframe\">\n",
              "  <thead>\n",
              "    <tr style=\"text-align: right;\">\n",
              "      <th></th>\n",
              "      <th>customerID</th>\n",
              "      <th>gender</th>\n",
              "      <th>SeniorCitizen</th>\n",
              "      <th>Partner</th>\n",
              "      <th>Dependents</th>\n",
              "      <th>tenure</th>\n",
              "      <th>PhoneService</th>\n",
              "      <th>MultipleLines</th>\n",
              "      <th>InternetService</th>\n",
              "      <th>OnlineSecurity</th>\n",
              "      <th>...</th>\n",
              "      <th>DeviceProtection</th>\n",
              "      <th>TechSupport</th>\n",
              "      <th>StreamingTV</th>\n",
              "      <th>StreamingMovies</th>\n",
              "      <th>Contract</th>\n",
              "      <th>PaperlessBilling</th>\n",
              "      <th>PaymentMethod</th>\n",
              "      <th>MonthlyCharges</th>\n",
              "      <th>TotalCharges</th>\n",
              "      <th>Churn</th>\n",
              "    </tr>\n",
              "  </thead>\n",
              "  <tbody>\n",
              "    <tr>\n",
              "      <th>0</th>\n",
              "      <td>7590-VHVEG</td>\n",
              "      <td>Female</td>\n",
              "      <td>0</td>\n",
              "      <td>Yes</td>\n",
              "      <td>No</td>\n",
              "      <td>1</td>\n",
              "      <td>No</td>\n",
              "      <td>No phone service</td>\n",
              "      <td>DSL</td>\n",
              "      <td>No</td>\n",
              "      <td>...</td>\n",
              "      <td>No</td>\n",
              "      <td>No</td>\n",
              "      <td>No</td>\n",
              "      <td>No</td>\n",
              "      <td>Month-to-month</td>\n",
              "      <td>Yes</td>\n",
              "      <td>Electronic check</td>\n",
              "      <td>29.85</td>\n",
              "      <td>29.85</td>\n",
              "      <td>No</td>\n",
              "    </tr>\n",
              "    <tr>\n",
              "      <th>1</th>\n",
              "      <td>5575-GNVDE</td>\n",
              "      <td>Male</td>\n",
              "      <td>0</td>\n",
              "      <td>No</td>\n",
              "      <td>No</td>\n",
              "      <td>34</td>\n",
              "      <td>Yes</td>\n",
              "      <td>No</td>\n",
              "      <td>DSL</td>\n",
              "      <td>Yes</td>\n",
              "      <td>...</td>\n",
              "      <td>Yes</td>\n",
              "      <td>No</td>\n",
              "      <td>No</td>\n",
              "      <td>No</td>\n",
              "      <td>One year</td>\n",
              "      <td>No</td>\n",
              "      <td>Mailed check</td>\n",
              "      <td>56.95</td>\n",
              "      <td>1889.5</td>\n",
              "      <td>No</td>\n",
              "    </tr>\n",
              "    <tr>\n",
              "      <th>2</th>\n",
              "      <td>3668-QPYBK</td>\n",
              "      <td>Male</td>\n",
              "      <td>0</td>\n",
              "      <td>No</td>\n",
              "      <td>No</td>\n",
              "      <td>2</td>\n",
              "      <td>Yes</td>\n",
              "      <td>No</td>\n",
              "      <td>DSL</td>\n",
              "      <td>Yes</td>\n",
              "      <td>...</td>\n",
              "      <td>No</td>\n",
              "      <td>No</td>\n",
              "      <td>No</td>\n",
              "      <td>No</td>\n",
              "      <td>Month-to-month</td>\n",
              "      <td>Yes</td>\n",
              "      <td>Mailed check</td>\n",
              "      <td>53.85</td>\n",
              "      <td>108.15</td>\n",
              "      <td>Yes</td>\n",
              "    </tr>\n",
              "    <tr>\n",
              "      <th>3</th>\n",
              "      <td>7795-CFOCW</td>\n",
              "      <td>Male</td>\n",
              "      <td>0</td>\n",
              "      <td>No</td>\n",
              "      <td>No</td>\n",
              "      <td>45</td>\n",
              "      <td>No</td>\n",
              "      <td>No phone service</td>\n",
              "      <td>DSL</td>\n",
              "      <td>Yes</td>\n",
              "      <td>...</td>\n",
              "      <td>Yes</td>\n",
              "      <td>Yes</td>\n",
              "      <td>No</td>\n",
              "      <td>No</td>\n",
              "      <td>One year</td>\n",
              "      <td>No</td>\n",
              "      <td>Bank transfer (automatic)</td>\n",
              "      <td>42.30</td>\n",
              "      <td>1840.75</td>\n",
              "      <td>No</td>\n",
              "    </tr>\n",
              "    <tr>\n",
              "      <th>4</th>\n",
              "      <td>9237-HQITU</td>\n",
              "      <td>Female</td>\n",
              "      <td>0</td>\n",
              "      <td>No</td>\n",
              "      <td>No</td>\n",
              "      <td>2</td>\n",
              "      <td>Yes</td>\n",
              "      <td>No</td>\n",
              "      <td>Fiber optic</td>\n",
              "      <td>No</td>\n",
              "      <td>...</td>\n",
              "      <td>No</td>\n",
              "      <td>No</td>\n",
              "      <td>No</td>\n",
              "      <td>No</td>\n",
              "      <td>Month-to-month</td>\n",
              "      <td>Yes</td>\n",
              "      <td>Electronic check</td>\n",
              "      <td>70.70</td>\n",
              "      <td>151.65</td>\n",
              "      <td>Yes</td>\n",
              "    </tr>\n",
              "  </tbody>\n",
              "</table>\n",
              "<p>5 rows × 21 columns</p>\n",
              "</div>"
            ],
            "text/plain": [
              "   customerID  gender  SeniorCitizen Partner Dependents  tenure PhoneService  \\\n",
              "0  7590-VHVEG  Female              0     Yes         No       1           No   \n",
              "1  5575-GNVDE    Male              0      No         No      34          Yes   \n",
              "2  3668-QPYBK    Male              0      No         No       2          Yes   \n",
              "3  7795-CFOCW    Male              0      No         No      45           No   \n",
              "4  9237-HQITU  Female              0      No         No       2          Yes   \n",
              "\n",
              "      MultipleLines InternetService OnlineSecurity  ...  DeviceProtection  \\\n",
              "0  No phone service             DSL             No  ...                No   \n",
              "1                No             DSL            Yes  ...               Yes   \n",
              "2                No             DSL            Yes  ...                No   \n",
              "3  No phone service             DSL            Yes  ...               Yes   \n",
              "4                No     Fiber optic             No  ...                No   \n",
              "\n",
              "  TechSupport StreamingTV StreamingMovies        Contract PaperlessBilling  \\\n",
              "0          No          No              No  Month-to-month              Yes   \n",
              "1          No          No              No        One year               No   \n",
              "2          No          No              No  Month-to-month              Yes   \n",
              "3         Yes          No              No        One year               No   \n",
              "4          No          No              No  Month-to-month              Yes   \n",
              "\n",
              "               PaymentMethod MonthlyCharges  TotalCharges Churn  \n",
              "0           Electronic check          29.85         29.85    No  \n",
              "1               Mailed check          56.95        1889.5    No  \n",
              "2               Mailed check          53.85        108.15   Yes  \n",
              "3  Bank transfer (automatic)          42.30       1840.75    No  \n",
              "4           Electronic check          70.70        151.65   Yes  \n",
              "\n",
              "[5 rows x 21 columns]"
            ]
          },
          "metadata": {
            "tags": []
          },
          "execution_count": 6
        }
      ]
    },
    {
      "metadata": {
        "id": "v5PnQ4PHVEor",
        "colab_type": "text"
      },
      "cell_type": "markdown",
      "source": [
        "The data set includes information about:\n",
        "\n",
        "Customers who left within the last month – the column is called Churn\n",
        "\n",
        "Services that each customer has signed up for – phone, multiple lines, internet, online security, online backup, device protection, tech support, and streaming TV and movies\n",
        "\n",
        "Customer account information – how long they’ve been a customer, contract, payment method, paperless billing, monthly charges, and total charges\n",
        "\n",
        "Demographic info about customers – gender, age range, and if they have partners and dependents\n",
        "\n",
        "We have to analyze all relevant customer data and develop focused customer retention programs."
      ]
    },
    {
      "metadata": {
        "id": "pO2ZKxYFlk6N",
        "colab_type": "code",
        "outputId": "34d8f1ba-1f47-415a-9b2f-a30e78770323",
        "colab": {
          "base_uri": "https://localhost:8080/",
          "height": 454
        }
      },
      "cell_type": "code",
      "source": [
        "df.info()"
      ],
      "execution_count": 0,
      "outputs": [
        {
          "output_type": "stream",
          "text": [
            "<class 'pandas.core.frame.DataFrame'>\n",
            "RangeIndex: 7043 entries, 0 to 7042\n",
            "Data columns (total 21 columns):\n",
            "customerID          7043 non-null object\n",
            "gender              7043 non-null object\n",
            "SeniorCitizen       7043 non-null int64\n",
            "Partner             7043 non-null object\n",
            "Dependents          7043 non-null object\n",
            "tenure              7043 non-null int64\n",
            "PhoneService        7043 non-null object\n",
            "MultipleLines       7043 non-null object\n",
            "InternetService     7043 non-null object\n",
            "OnlineSecurity      7043 non-null object\n",
            "OnlineBackup        7043 non-null object\n",
            "DeviceProtection    7043 non-null object\n",
            "TechSupport         7043 non-null object\n",
            "StreamingTV         7043 non-null object\n",
            "StreamingMovies     7043 non-null object\n",
            "Contract            7043 non-null object\n",
            "PaperlessBilling    7043 non-null object\n",
            "PaymentMethod       7043 non-null object\n",
            "MonthlyCharges      7043 non-null float64\n",
            "TotalCharges        7043 non-null object\n",
            "Churn               7043 non-null object\n",
            "dtypes: float64(1), int64(2), object(18)\n",
            "memory usage: 1.1+ MB\n"
          ],
          "name": "stdout"
        }
      ]
    },
    {
      "metadata": {
        "id": "1Yr9Jo6SU4mi",
        "colab_type": "text"
      },
      "cell_type": "markdown",
      "source": [
        "The data provided is of total 7043 Customers. \n",
        "There are toal 21 variables which includes the Target Variable (Churn). It has mixed type of variables with Nil Null values in the data set.\n",
        "\n",
        "There needs some transformation of variable type stored as.\n",
        "\n",
        "'SeniorCitizen' should be object instead of int64 as it is categorical variable\n",
        "\n",
        "'TotalCharges' should be float64 instead of object as it is a continuous variable\n"
      ]
    },
    {
      "metadata": {
        "id": "VYITIwu0lk6X",
        "colab_type": "text"
      },
      "cell_type": "markdown",
      "source": [
        "# <a id='8'>8. Data Manipulation </a>\n"
      ]
    },
    {
      "metadata": {
        "id": "SQoqwXsWno6H",
        "colab_type": "text"
      },
      "cell_type": "markdown",
      "source": [
        "### Correct the variable type"
      ]
    },
    {
      "metadata": {
        "id": "MrjuERdCXs7K",
        "colab_type": "code",
        "colab": {}
      },
      "cell_type": "code",
      "source": [
        "df['SeniorCitizen'] = df['SeniorCitizen'].astype(object)"
      ],
      "execution_count": 0,
      "outputs": []
    },
    {
      "metadata": {
        "id": "bLXk-MAnXcir",
        "colab_type": "code",
        "colab": {}
      },
      "cell_type": "code",
      "source": [
        "df['TotalCharges'] = df['TotalCharges'].replace(r'\\s+', np.nan, regex=True)\n",
        "df['TotalCharges'] = pd.to_numeric(df['TotalCharges'])"
      ],
      "execution_count": 0,
      "outputs": []
    },
    {
      "metadata": {
        "id": "LbtuYNAdYw2g",
        "colab_type": "code",
        "colab": {}
      },
      "cell_type": "code",
      "source": [
        "df['tenure'] = df['tenure'].astype(float)"
      ],
      "execution_count": 0,
      "outputs": []
    },
    {
      "metadata": {
        "id": "Y3qDK1fkV-Kf",
        "colab_type": "text"
      },
      "cell_type": "markdown",
      "source": [
        "Let us have relook at all columns"
      ]
    },
    {
      "metadata": {
        "id": "PdW1qWlbY2eY",
        "colab_type": "code",
        "outputId": "4301c604-d5b5-430f-d0ad-e6aa3c858260",
        "colab": {
          "base_uri": "https://localhost:8080/",
          "height": 454
        }
      },
      "cell_type": "code",
      "source": [
        "df.info()"
      ],
      "execution_count": 0,
      "outputs": [
        {
          "output_type": "stream",
          "text": [
            "<class 'pandas.core.frame.DataFrame'>\n",
            "RangeIndex: 7043 entries, 0 to 7042\n",
            "Data columns (total 21 columns):\n",
            "customerID          7043 non-null object\n",
            "gender              7043 non-null object\n",
            "SeniorCitizen       7043 non-null object\n",
            "Partner             7043 non-null object\n",
            "Dependents          7043 non-null object\n",
            "tenure              7043 non-null float64\n",
            "PhoneService        7043 non-null object\n",
            "MultipleLines       7043 non-null object\n",
            "InternetService     7043 non-null object\n",
            "OnlineSecurity      7043 non-null object\n",
            "OnlineBackup        7043 non-null object\n",
            "DeviceProtection    7043 non-null object\n",
            "TechSupport         7043 non-null object\n",
            "StreamingTV         7043 non-null object\n",
            "StreamingMovies     7043 non-null object\n",
            "Contract            7043 non-null object\n",
            "PaperlessBilling    7043 non-null object\n",
            "PaymentMethod       7043 non-null object\n",
            "MonthlyCharges      7043 non-null float64\n",
            "TotalCharges        7032 non-null float64\n",
            "Churn               7043 non-null object\n",
            "dtypes: float64(3), object(18)\n",
            "memory usage: 1.1+ MB\n"
          ],
          "name": "stdout"
        }
      ]
    },
    {
      "metadata": {
        "id": "blwydrgqWFMB",
        "colab_type": "text"
      },
      "cell_type": "markdown",
      "source": [
        "### Null Values"
      ]
    },
    {
      "metadata": {
        "id": "ep9VdHNlchZU",
        "colab_type": "code",
        "outputId": "fd6943ee-7dd3-43a3-c2f9-0aaf375b1ef4",
        "colab": {
          "base_uri": "https://localhost:8080/",
          "height": 669
        }
      },
      "cell_type": "code",
      "source": [
        "# Check Null values and its percentage of total observations\n",
        "df_null = pd.DataFrame({'total_null_values': df[:].isna().sum(), 'null_percentage': (df[:].isna().sum()/df.shape[0])*100})\n",
        "df_null "
      ],
      "execution_count": 0,
      "outputs": [
        {
          "output_type": "execute_result",
          "data": {
            "text/html": [
              "<div>\n",
              "<style scoped>\n",
              "    .dataframe tbody tr th:only-of-type {\n",
              "        vertical-align: middle;\n",
              "    }\n",
              "\n",
              "    .dataframe tbody tr th {\n",
              "        vertical-align: top;\n",
              "    }\n",
              "\n",
              "    .dataframe thead th {\n",
              "        text-align: right;\n",
              "    }\n",
              "</style>\n",
              "<table border=\"1\" class=\"dataframe\">\n",
              "  <thead>\n",
              "    <tr style=\"text-align: right;\">\n",
              "      <th></th>\n",
              "      <th>null_percentage</th>\n",
              "      <th>total_null_values</th>\n",
              "    </tr>\n",
              "  </thead>\n",
              "  <tbody>\n",
              "    <tr>\n",
              "      <th>customerID</th>\n",
              "      <td>0.000000</td>\n",
              "      <td>0</td>\n",
              "    </tr>\n",
              "    <tr>\n",
              "      <th>gender</th>\n",
              "      <td>0.000000</td>\n",
              "      <td>0</td>\n",
              "    </tr>\n",
              "    <tr>\n",
              "      <th>SeniorCitizen</th>\n",
              "      <td>0.000000</td>\n",
              "      <td>0</td>\n",
              "    </tr>\n",
              "    <tr>\n",
              "      <th>Partner</th>\n",
              "      <td>0.000000</td>\n",
              "      <td>0</td>\n",
              "    </tr>\n",
              "    <tr>\n",
              "      <th>Dependents</th>\n",
              "      <td>0.000000</td>\n",
              "      <td>0</td>\n",
              "    </tr>\n",
              "    <tr>\n",
              "      <th>tenure</th>\n",
              "      <td>0.000000</td>\n",
              "      <td>0</td>\n",
              "    </tr>\n",
              "    <tr>\n",
              "      <th>PhoneService</th>\n",
              "      <td>0.000000</td>\n",
              "      <td>0</td>\n",
              "    </tr>\n",
              "    <tr>\n",
              "      <th>MultipleLines</th>\n",
              "      <td>0.000000</td>\n",
              "      <td>0</td>\n",
              "    </tr>\n",
              "    <tr>\n",
              "      <th>InternetService</th>\n",
              "      <td>0.000000</td>\n",
              "      <td>0</td>\n",
              "    </tr>\n",
              "    <tr>\n",
              "      <th>OnlineSecurity</th>\n",
              "      <td>0.000000</td>\n",
              "      <td>0</td>\n",
              "    </tr>\n",
              "    <tr>\n",
              "      <th>OnlineBackup</th>\n",
              "      <td>0.000000</td>\n",
              "      <td>0</td>\n",
              "    </tr>\n",
              "    <tr>\n",
              "      <th>DeviceProtection</th>\n",
              "      <td>0.000000</td>\n",
              "      <td>0</td>\n",
              "    </tr>\n",
              "    <tr>\n",
              "      <th>TechSupport</th>\n",
              "      <td>0.000000</td>\n",
              "      <td>0</td>\n",
              "    </tr>\n",
              "    <tr>\n",
              "      <th>StreamingTV</th>\n",
              "      <td>0.000000</td>\n",
              "      <td>0</td>\n",
              "    </tr>\n",
              "    <tr>\n",
              "      <th>StreamingMovies</th>\n",
              "      <td>0.000000</td>\n",
              "      <td>0</td>\n",
              "    </tr>\n",
              "    <tr>\n",
              "      <th>Contract</th>\n",
              "      <td>0.000000</td>\n",
              "      <td>0</td>\n",
              "    </tr>\n",
              "    <tr>\n",
              "      <th>PaperlessBilling</th>\n",
              "      <td>0.000000</td>\n",
              "      <td>0</td>\n",
              "    </tr>\n",
              "    <tr>\n",
              "      <th>PaymentMethod</th>\n",
              "      <td>0.000000</td>\n",
              "      <td>0</td>\n",
              "    </tr>\n",
              "    <tr>\n",
              "      <th>MonthlyCharges</th>\n",
              "      <td>0.000000</td>\n",
              "      <td>0</td>\n",
              "    </tr>\n",
              "    <tr>\n",
              "      <th>TotalCharges</th>\n",
              "      <td>0.156183</td>\n",
              "      <td>11</td>\n",
              "    </tr>\n",
              "    <tr>\n",
              "      <th>Churn</th>\n",
              "      <td>0.000000</td>\n",
              "      <td>0</td>\n",
              "    </tr>\n",
              "  </tbody>\n",
              "</table>\n",
              "</div>"
            ],
            "text/plain": [
              "                  null_percentage  total_null_values\n",
              "customerID               0.000000                  0\n",
              "gender                   0.000000                  0\n",
              "SeniorCitizen            0.000000                  0\n",
              "Partner                  0.000000                  0\n",
              "Dependents               0.000000                  0\n",
              "tenure                   0.000000                  0\n",
              "PhoneService             0.000000                  0\n",
              "MultipleLines            0.000000                  0\n",
              "InternetService          0.000000                  0\n",
              "OnlineSecurity           0.000000                  0\n",
              "OnlineBackup             0.000000                  0\n",
              "DeviceProtection         0.000000                  0\n",
              "TechSupport              0.000000                  0\n",
              "StreamingTV              0.000000                  0\n",
              "StreamingMovies          0.000000                  0\n",
              "Contract                 0.000000                  0\n",
              "PaperlessBilling         0.000000                  0\n",
              "PaymentMethod            0.000000                  0\n",
              "MonthlyCharges           0.000000                  0\n",
              "TotalCharges             0.156183                 11\n",
              "Churn                    0.000000                  0"
            ]
          },
          "metadata": {
            "tags": []
          },
          "execution_count": 12
        }
      ]
    },
    {
      "metadata": {
        "id": "WSItJTJ7bUO1",
        "colab_type": "text"
      },
      "cell_type": "markdown",
      "source": [
        "It is seen now that 'TotalCharges ' has 11 null values. **every missing value record comes from customers who has not opted out**. Since there would some data loss by dropping observations with null values, we decide to impute and replace none with mean."
      ]
    },
    {
      "metadata": {
        "id": "DxMMNVZMlk6n",
        "colab_type": "text"
      },
      "cell_type": "markdown",
      "source": [
        "** Imputation **"
      ]
    },
    {
      "metadata": {
        "id": "OzN3Frtzlk6q",
        "colab_type": "code",
        "colab": {}
      },
      "cell_type": "code",
      "source": [
        "df['TotalCharges'] = df['TotalCharges'].fillna((df['TotalCharges'].mean()))"
      ],
      "execution_count": 0,
      "outputs": []
    },
    {
      "metadata": {
        "id": "wmauB792lt9j",
        "colab_type": "code",
        "outputId": "e1e20e1c-f331-4202-a958-25c06e140447",
        "colab": {
          "base_uri": "https://localhost:8080/",
          "height": 34
        }
      },
      "cell_type": "code",
      "source": [
        "df.isnull().sum().sum()"
      ],
      "execution_count": 0,
      "outputs": [
        {
          "output_type": "execute_result",
          "data": {
            "text/plain": [
              "0"
            ]
          },
          "metadata": {
            "tags": []
          },
          "execution_count": 14
        }
      ]
    },
    {
      "metadata": {
        "id": "628b32CBl0dC",
        "colab_type": "text"
      },
      "cell_type": "markdown",
      "source": [
        "### Now there are no null values. Hence we can proceed further with the analysis"
      ]
    },
    {
      "metadata": {
        "id": "MmHjX_Ymlk6Q",
        "colab_type": "code",
        "outputId": "5c5f3070-76ce-4aea-ebe1-c82f8ab645f3",
        "colab": {
          "base_uri": "https://localhost:8080/",
          "height": 284
        }
      },
      "cell_type": "code",
      "source": [
        "df.describe()"
      ],
      "execution_count": 0,
      "outputs": [
        {
          "output_type": "execute_result",
          "data": {
            "text/html": [
              "<div>\n",
              "<style scoped>\n",
              "    .dataframe tbody tr th:only-of-type {\n",
              "        vertical-align: middle;\n",
              "    }\n",
              "\n",
              "    .dataframe tbody tr th {\n",
              "        vertical-align: top;\n",
              "    }\n",
              "\n",
              "    .dataframe thead th {\n",
              "        text-align: right;\n",
              "    }\n",
              "</style>\n",
              "<table border=\"1\" class=\"dataframe\">\n",
              "  <thead>\n",
              "    <tr style=\"text-align: right;\">\n",
              "      <th></th>\n",
              "      <th>tenure</th>\n",
              "      <th>MonthlyCharges</th>\n",
              "      <th>TotalCharges</th>\n",
              "    </tr>\n",
              "  </thead>\n",
              "  <tbody>\n",
              "    <tr>\n",
              "      <th>count</th>\n",
              "      <td>7043.000000</td>\n",
              "      <td>7043.000000</td>\n",
              "      <td>7043.000000</td>\n",
              "    </tr>\n",
              "    <tr>\n",
              "      <th>mean</th>\n",
              "      <td>32.371149</td>\n",
              "      <td>64.761692</td>\n",
              "      <td>2283.300441</td>\n",
              "    </tr>\n",
              "    <tr>\n",
              "      <th>std</th>\n",
              "      <td>24.559481</td>\n",
              "      <td>30.090047</td>\n",
              "      <td>2265.000258</td>\n",
              "    </tr>\n",
              "    <tr>\n",
              "      <th>min</th>\n",
              "      <td>0.000000</td>\n",
              "      <td>18.250000</td>\n",
              "      <td>18.800000</td>\n",
              "    </tr>\n",
              "    <tr>\n",
              "      <th>25%</th>\n",
              "      <td>9.000000</td>\n",
              "      <td>35.500000</td>\n",
              "      <td>402.225000</td>\n",
              "    </tr>\n",
              "    <tr>\n",
              "      <th>50%</th>\n",
              "      <td>29.000000</td>\n",
              "      <td>70.350000</td>\n",
              "      <td>1400.550000</td>\n",
              "    </tr>\n",
              "    <tr>\n",
              "      <th>75%</th>\n",
              "      <td>55.000000</td>\n",
              "      <td>89.850000</td>\n",
              "      <td>3786.600000</td>\n",
              "    </tr>\n",
              "    <tr>\n",
              "      <th>max</th>\n",
              "      <td>72.000000</td>\n",
              "      <td>118.750000</td>\n",
              "      <td>8684.800000</td>\n",
              "    </tr>\n",
              "  </tbody>\n",
              "</table>\n",
              "</div>"
            ],
            "text/plain": [
              "            tenure  MonthlyCharges  TotalCharges\n",
              "count  7043.000000     7043.000000   7043.000000\n",
              "mean     32.371149       64.761692   2283.300441\n",
              "std      24.559481       30.090047   2265.000258\n",
              "min       0.000000       18.250000     18.800000\n",
              "25%       9.000000       35.500000    402.225000\n",
              "50%      29.000000       70.350000   1400.550000\n",
              "75%      55.000000       89.850000   3786.600000\n",
              "max      72.000000      118.750000   8684.800000"
            ]
          },
          "metadata": {
            "tags": []
          },
          "execution_count": 15
        }
      ]
    },
    {
      "metadata": {
        "id": "LpAaz3JOlk6U",
        "colab_type": "code",
        "outputId": "d1705d2e-0e84-402d-ff92-90a6397d5274",
        "colab": {
          "base_uri": "https://localhost:8080/",
          "height": 202
        }
      },
      "cell_type": "code",
      "source": [
        "df.describe(include=object)"
      ],
      "execution_count": 0,
      "outputs": [
        {
          "output_type": "execute_result",
          "data": {
            "text/html": [
              "<div>\n",
              "<style scoped>\n",
              "    .dataframe tbody tr th:only-of-type {\n",
              "        vertical-align: middle;\n",
              "    }\n",
              "\n",
              "    .dataframe tbody tr th {\n",
              "        vertical-align: top;\n",
              "    }\n",
              "\n",
              "    .dataframe thead th {\n",
              "        text-align: right;\n",
              "    }\n",
              "</style>\n",
              "<table border=\"1\" class=\"dataframe\">\n",
              "  <thead>\n",
              "    <tr style=\"text-align: right;\">\n",
              "      <th></th>\n",
              "      <th>customerID</th>\n",
              "      <th>gender</th>\n",
              "      <th>SeniorCitizen</th>\n",
              "      <th>Partner</th>\n",
              "      <th>Dependents</th>\n",
              "      <th>PhoneService</th>\n",
              "      <th>MultipleLines</th>\n",
              "      <th>InternetService</th>\n",
              "      <th>OnlineSecurity</th>\n",
              "      <th>OnlineBackup</th>\n",
              "      <th>DeviceProtection</th>\n",
              "      <th>TechSupport</th>\n",
              "      <th>StreamingTV</th>\n",
              "      <th>StreamingMovies</th>\n",
              "      <th>Contract</th>\n",
              "      <th>PaperlessBilling</th>\n",
              "      <th>PaymentMethod</th>\n",
              "      <th>Churn</th>\n",
              "    </tr>\n",
              "  </thead>\n",
              "  <tbody>\n",
              "    <tr>\n",
              "      <th>count</th>\n",
              "      <td>7043</td>\n",
              "      <td>7043</td>\n",
              "      <td>7043</td>\n",
              "      <td>7043</td>\n",
              "      <td>7043</td>\n",
              "      <td>7043</td>\n",
              "      <td>7043</td>\n",
              "      <td>7043</td>\n",
              "      <td>7043</td>\n",
              "      <td>7043</td>\n",
              "      <td>7043</td>\n",
              "      <td>7043</td>\n",
              "      <td>7043</td>\n",
              "      <td>7043</td>\n",
              "      <td>7043</td>\n",
              "      <td>7043</td>\n",
              "      <td>7043</td>\n",
              "      <td>7043</td>\n",
              "    </tr>\n",
              "    <tr>\n",
              "      <th>unique</th>\n",
              "      <td>7043</td>\n",
              "      <td>2</td>\n",
              "      <td>2</td>\n",
              "      <td>2</td>\n",
              "      <td>2</td>\n",
              "      <td>2</td>\n",
              "      <td>3</td>\n",
              "      <td>3</td>\n",
              "      <td>3</td>\n",
              "      <td>3</td>\n",
              "      <td>3</td>\n",
              "      <td>3</td>\n",
              "      <td>3</td>\n",
              "      <td>3</td>\n",
              "      <td>3</td>\n",
              "      <td>2</td>\n",
              "      <td>4</td>\n",
              "      <td>2</td>\n",
              "    </tr>\n",
              "    <tr>\n",
              "      <th>top</th>\n",
              "      <td>5199-FPUSP</td>\n",
              "      <td>Male</td>\n",
              "      <td>0</td>\n",
              "      <td>No</td>\n",
              "      <td>No</td>\n",
              "      <td>Yes</td>\n",
              "      <td>No</td>\n",
              "      <td>Fiber optic</td>\n",
              "      <td>No</td>\n",
              "      <td>No</td>\n",
              "      <td>No</td>\n",
              "      <td>No</td>\n",
              "      <td>No</td>\n",
              "      <td>No</td>\n",
              "      <td>Month-to-month</td>\n",
              "      <td>Yes</td>\n",
              "      <td>Electronic check</td>\n",
              "      <td>No</td>\n",
              "    </tr>\n",
              "    <tr>\n",
              "      <th>freq</th>\n",
              "      <td>1</td>\n",
              "      <td>3555</td>\n",
              "      <td>5901</td>\n",
              "      <td>3641</td>\n",
              "      <td>4933</td>\n",
              "      <td>6361</td>\n",
              "      <td>3390</td>\n",
              "      <td>3096</td>\n",
              "      <td>3498</td>\n",
              "      <td>3088</td>\n",
              "      <td>3095</td>\n",
              "      <td>3473</td>\n",
              "      <td>2810</td>\n",
              "      <td>2785</td>\n",
              "      <td>3875</td>\n",
              "      <td>4171</td>\n",
              "      <td>2365</td>\n",
              "      <td>5174</td>\n",
              "    </tr>\n",
              "  </tbody>\n",
              "</table>\n",
              "</div>"
            ],
            "text/plain": [
              "        customerID gender  SeniorCitizen Partner Dependents PhoneService  \\\n",
              "count         7043   7043           7043    7043       7043         7043   \n",
              "unique        7043      2              2       2          2            2   \n",
              "top     5199-FPUSP   Male              0      No         No          Yes   \n",
              "freq             1   3555           5901    3641       4933         6361   \n",
              "\n",
              "       MultipleLines InternetService OnlineSecurity OnlineBackup  \\\n",
              "count           7043            7043           7043         7043   \n",
              "unique             3               3              3            3   \n",
              "top               No     Fiber optic             No           No   \n",
              "freq            3390            3096           3498         3088   \n",
              "\n",
              "       DeviceProtection TechSupport StreamingTV StreamingMovies  \\\n",
              "count              7043        7043        7043            7043   \n",
              "unique                3           3           3               3   \n",
              "top                  No          No          No              No   \n",
              "freq               3095        3473        2810            2785   \n",
              "\n",
              "              Contract PaperlessBilling     PaymentMethod Churn  \n",
              "count             7043             7043              7043  7043  \n",
              "unique               3                2                 4     2  \n",
              "top     Month-to-month              Yes  Electronic check    No  \n",
              "freq              3875             4171              2365  5174  "
            ]
          },
          "metadata": {
            "tags": []
          },
          "execution_count": 16
        }
      ]
    },
    {
      "metadata": {
        "id": "TFMWTL6clk6v",
        "colab_type": "text"
      },
      "cell_type": "markdown",
      "source": [
        "# <a id='9'>9. Exploratory Data Analysis </a>"
      ]
    },
    {
      "metadata": {
        "id": "47SJD-Kclk6w",
        "colab_type": "code",
        "colab": {}
      },
      "cell_type": "code",
      "source": [
        "df_categorical = df.select_dtypes(include=object)\n",
        "\n",
        "column_categorical = df_categorical.columns"
      ],
      "execution_count": 0,
      "outputs": []
    },
    {
      "metadata": {
        "id": "7jgvQz35lk6z",
        "colab_type": "code",
        "outputId": "53d484f3-463d-4dda-a872-07325d0d255d",
        "colab": {
          "base_uri": "https://localhost:8080/",
          "height": 299
        }
      },
      "cell_type": "code",
      "source": [
        "df_categorical.head()"
      ],
      "execution_count": 0,
      "outputs": [
        {
          "output_type": "execute_result",
          "data": {
            "text/html": [
              "<div>\n",
              "<style scoped>\n",
              "    .dataframe tbody tr th:only-of-type {\n",
              "        vertical-align: middle;\n",
              "    }\n",
              "\n",
              "    .dataframe tbody tr th {\n",
              "        vertical-align: top;\n",
              "    }\n",
              "\n",
              "    .dataframe thead th {\n",
              "        text-align: right;\n",
              "    }\n",
              "</style>\n",
              "<table border=\"1\" class=\"dataframe\">\n",
              "  <thead>\n",
              "    <tr style=\"text-align: right;\">\n",
              "      <th></th>\n",
              "      <th>customerID</th>\n",
              "      <th>gender</th>\n",
              "      <th>SeniorCitizen</th>\n",
              "      <th>Partner</th>\n",
              "      <th>Dependents</th>\n",
              "      <th>PhoneService</th>\n",
              "      <th>MultipleLines</th>\n",
              "      <th>InternetService</th>\n",
              "      <th>OnlineSecurity</th>\n",
              "      <th>OnlineBackup</th>\n",
              "      <th>DeviceProtection</th>\n",
              "      <th>TechSupport</th>\n",
              "      <th>StreamingTV</th>\n",
              "      <th>StreamingMovies</th>\n",
              "      <th>Contract</th>\n",
              "      <th>PaperlessBilling</th>\n",
              "      <th>PaymentMethod</th>\n",
              "      <th>Churn</th>\n",
              "    </tr>\n",
              "  </thead>\n",
              "  <tbody>\n",
              "    <tr>\n",
              "      <th>0</th>\n",
              "      <td>7590-VHVEG</td>\n",
              "      <td>Female</td>\n",
              "      <td>0</td>\n",
              "      <td>Yes</td>\n",
              "      <td>No</td>\n",
              "      <td>No</td>\n",
              "      <td>No phone service</td>\n",
              "      <td>DSL</td>\n",
              "      <td>No</td>\n",
              "      <td>Yes</td>\n",
              "      <td>No</td>\n",
              "      <td>No</td>\n",
              "      <td>No</td>\n",
              "      <td>No</td>\n",
              "      <td>Month-to-month</td>\n",
              "      <td>Yes</td>\n",
              "      <td>Electronic check</td>\n",
              "      <td>No</td>\n",
              "    </tr>\n",
              "    <tr>\n",
              "      <th>1</th>\n",
              "      <td>5575-GNVDE</td>\n",
              "      <td>Male</td>\n",
              "      <td>0</td>\n",
              "      <td>No</td>\n",
              "      <td>No</td>\n",
              "      <td>Yes</td>\n",
              "      <td>No</td>\n",
              "      <td>DSL</td>\n",
              "      <td>Yes</td>\n",
              "      <td>No</td>\n",
              "      <td>Yes</td>\n",
              "      <td>No</td>\n",
              "      <td>No</td>\n",
              "      <td>No</td>\n",
              "      <td>One year</td>\n",
              "      <td>No</td>\n",
              "      <td>Mailed check</td>\n",
              "      <td>No</td>\n",
              "    </tr>\n",
              "    <tr>\n",
              "      <th>2</th>\n",
              "      <td>3668-QPYBK</td>\n",
              "      <td>Male</td>\n",
              "      <td>0</td>\n",
              "      <td>No</td>\n",
              "      <td>No</td>\n",
              "      <td>Yes</td>\n",
              "      <td>No</td>\n",
              "      <td>DSL</td>\n",
              "      <td>Yes</td>\n",
              "      <td>Yes</td>\n",
              "      <td>No</td>\n",
              "      <td>No</td>\n",
              "      <td>No</td>\n",
              "      <td>No</td>\n",
              "      <td>Month-to-month</td>\n",
              "      <td>Yes</td>\n",
              "      <td>Mailed check</td>\n",
              "      <td>Yes</td>\n",
              "    </tr>\n",
              "    <tr>\n",
              "      <th>3</th>\n",
              "      <td>7795-CFOCW</td>\n",
              "      <td>Male</td>\n",
              "      <td>0</td>\n",
              "      <td>No</td>\n",
              "      <td>No</td>\n",
              "      <td>No</td>\n",
              "      <td>No phone service</td>\n",
              "      <td>DSL</td>\n",
              "      <td>Yes</td>\n",
              "      <td>No</td>\n",
              "      <td>Yes</td>\n",
              "      <td>Yes</td>\n",
              "      <td>No</td>\n",
              "      <td>No</td>\n",
              "      <td>One year</td>\n",
              "      <td>No</td>\n",
              "      <td>Bank transfer (automatic)</td>\n",
              "      <td>No</td>\n",
              "    </tr>\n",
              "    <tr>\n",
              "      <th>4</th>\n",
              "      <td>9237-HQITU</td>\n",
              "      <td>Female</td>\n",
              "      <td>0</td>\n",
              "      <td>No</td>\n",
              "      <td>No</td>\n",
              "      <td>Yes</td>\n",
              "      <td>No</td>\n",
              "      <td>Fiber optic</td>\n",
              "      <td>No</td>\n",
              "      <td>No</td>\n",
              "      <td>No</td>\n",
              "      <td>No</td>\n",
              "      <td>No</td>\n",
              "      <td>No</td>\n",
              "      <td>Month-to-month</td>\n",
              "      <td>Yes</td>\n",
              "      <td>Electronic check</td>\n",
              "      <td>Yes</td>\n",
              "    </tr>\n",
              "  </tbody>\n",
              "</table>\n",
              "</div>"
            ],
            "text/plain": [
              "   customerID  gender SeniorCitizen Partner Dependents PhoneService  \\\n",
              "0  7590-VHVEG  Female             0     Yes         No           No   \n",
              "1  5575-GNVDE    Male             0      No         No          Yes   \n",
              "2  3668-QPYBK    Male             0      No         No          Yes   \n",
              "3  7795-CFOCW    Male             0      No         No           No   \n",
              "4  9237-HQITU  Female             0      No         No          Yes   \n",
              "\n",
              "      MultipleLines InternetService OnlineSecurity OnlineBackup  \\\n",
              "0  No phone service             DSL             No          Yes   \n",
              "1                No             DSL            Yes           No   \n",
              "2                No             DSL            Yes          Yes   \n",
              "3  No phone service             DSL            Yes           No   \n",
              "4                No     Fiber optic             No           No   \n",
              "\n",
              "  DeviceProtection TechSupport StreamingTV StreamingMovies        Contract  \\\n",
              "0               No          No          No              No  Month-to-month   \n",
              "1              Yes          No          No              No        One year   \n",
              "2               No          No          No              No  Month-to-month   \n",
              "3              Yes         Yes          No              No        One year   \n",
              "4               No          No          No              No  Month-to-month   \n",
              "\n",
              "  PaperlessBilling              PaymentMethod Churn  \n",
              "0              Yes           Electronic check    No  \n",
              "1               No               Mailed check    No  \n",
              "2              Yes               Mailed check   Yes  \n",
              "3               No  Bank transfer (automatic)    No  \n",
              "4              Yes           Electronic check   Yes  "
            ]
          },
          "metadata": {
            "tags": []
          },
          "execution_count": 18
        }
      ]
    },
    {
      "metadata": {
        "id": "wvT0pJp4lk61",
        "colab_type": "code",
        "colab": {}
      },
      "cell_type": "code",
      "source": [
        "df_numerical = df.select_dtypes(include=np.float)\n",
        "\n",
        "column_numerical = df_numerical.columns"
      ],
      "execution_count": 0,
      "outputs": []
    },
    {
      "metadata": {
        "id": "z5lUdWmklk63",
        "colab_type": "code",
        "outputId": "dd5c9883-82ba-4d3c-e5b7-252c00098888",
        "colab": {
          "base_uri": "https://localhost:8080/",
          "height": 195
        }
      },
      "cell_type": "code",
      "source": [
        "df_numerical.head()"
      ],
      "execution_count": 0,
      "outputs": [
        {
          "output_type": "execute_result",
          "data": {
            "text/html": [
              "<div>\n",
              "<style scoped>\n",
              "    .dataframe tbody tr th:only-of-type {\n",
              "        vertical-align: middle;\n",
              "    }\n",
              "\n",
              "    .dataframe tbody tr th {\n",
              "        vertical-align: top;\n",
              "    }\n",
              "\n",
              "    .dataframe thead th {\n",
              "        text-align: right;\n",
              "    }\n",
              "</style>\n",
              "<table border=\"1\" class=\"dataframe\">\n",
              "  <thead>\n",
              "    <tr style=\"text-align: right;\">\n",
              "      <th></th>\n",
              "      <th>tenure</th>\n",
              "      <th>MonthlyCharges</th>\n",
              "      <th>TotalCharges</th>\n",
              "    </tr>\n",
              "  </thead>\n",
              "  <tbody>\n",
              "    <tr>\n",
              "      <th>0</th>\n",
              "      <td>1.0</td>\n",
              "      <td>29.85</td>\n",
              "      <td>29.85</td>\n",
              "    </tr>\n",
              "    <tr>\n",
              "      <th>1</th>\n",
              "      <td>34.0</td>\n",
              "      <td>56.95</td>\n",
              "      <td>1889.50</td>\n",
              "    </tr>\n",
              "    <tr>\n",
              "      <th>2</th>\n",
              "      <td>2.0</td>\n",
              "      <td>53.85</td>\n",
              "      <td>108.15</td>\n",
              "    </tr>\n",
              "    <tr>\n",
              "      <th>3</th>\n",
              "      <td>45.0</td>\n",
              "      <td>42.30</td>\n",
              "      <td>1840.75</td>\n",
              "    </tr>\n",
              "    <tr>\n",
              "      <th>4</th>\n",
              "      <td>2.0</td>\n",
              "      <td>70.70</td>\n",
              "      <td>151.65</td>\n",
              "    </tr>\n",
              "  </tbody>\n",
              "</table>\n",
              "</div>"
            ],
            "text/plain": [
              "   tenure  MonthlyCharges  TotalCharges\n",
              "0     1.0           29.85         29.85\n",
              "1    34.0           56.95       1889.50\n",
              "2     2.0           53.85        108.15\n",
              "3    45.0           42.30       1840.75\n",
              "4     2.0           70.70        151.65"
            ]
          },
          "metadata": {
            "tags": []
          },
          "execution_count": 20
        }
      ]
    },
    {
      "metadata": {
        "id": "BggKkdIXlk66",
        "colab_type": "text"
      },
      "cell_type": "markdown",
      "source": [
        "### <a id='9.1'> Univariate Analysis</a>"
      ]
    },
    {
      "metadata": {
        "id": "BbHmvfiOoXjd",
        "colab_type": "code",
        "outputId": "637e05e0-668f-4490-909a-de85acf30ee4",
        "colab": {
          "base_uri": "https://localhost:8080/",
          "height": 2642
        }
      },
      "cell_type": "code",
      "source": [
        "for i, col in enumerate(df_categorical.drop('customerID', axis=1).columns):\n",
        "        plt.figure(i,figsize = (5,2))\n",
        "        sns.countplot(y=col, data=df_categorical.drop('customerID', axis=1),palette='Set1')"
      ],
      "execution_count": 0,
      "outputs": [
        {
          "output_type": "display_data",
          "data": {
            "image/png": "[encoded data removed]",
            "text/plain": [
              "<Figure size 360x144 with 1 Axes>"
            ]
          },
          "metadata": {
            "tags": []
          }
        },
        {
          "output_type": "display_data",
          "data": {
            "image/png": "[encoded data removed]",
            "text/plain": [
              "<Figure size 360x144 with 1 Axes>"
            ]
          },
          "metadata": {
            "tags": []
          }
        },
        {
          "output_type": "display_data",
          "data": {
            "image/png": "[encoded data removed]",
            "text/plain": [
              "<Figure size 360x144 with 1 Axes>"
            ]
          },
          "metadata": {
            "tags": []
          }
        },
        {
          "output_type": "display_data",
          "data": {
            "image/png": "[encoded data removed]",
            "text/plain": [
              "<Figure size 360x144 with 1 Axes>"
            ]
          },
          "metadata": {
            "tags": []
          }
        },
        {
          "output_type": "display_data",
          "data": {
            "image/png": "[encoded data removed]",
            "text/plain": [
              "<Figure size 360x144 with 1 Axes>"
            ]
          },
          "metadata": {
            "tags": []
          }
        },
        {
          "output_type": "display_data",
          "data": {
            "image/png": "[encoded data removed]",
            "text/plain": [
              "<Figure size 360x144 with 1 Axes>"
            ]
          },
          "metadata": {
            "tags": []
          }
        },
        {
          "output_type": "display_data",
          "data": {
            "image/png": "[encoded data removed]",
            "text/plain": [
              "<Figure size 360x144 with 1 Axes>"
            ]
          },
          "metadata": {
            "tags": []
          }
        },
        {
          "output_type": "display_data",
          "data": {
            "image/png": "[encoded data removed]",
            "text/plain": [
              "<Figure size 360x144 with 1 Axes>"
            ]
          },
          "metadata": {
            "tags": []
          }
        },
        {
          "output_type": "display_data",
          "data": {
            "image/png": "[encoded data removed]",
            "text/plain": [
              "<Figure size 360x144 with 1 Axes>"
            ]
          },
          "metadata": {
            "tags": []
          }
        },
        {
          "output_type": "display_data",
          "data": {
            "image/png": "[encoded data removed]",
            "text/plain": [
              "<Figure size 360x144 with 1 Axes>"
            ]
          },
          "metadata": {
            "tags": []
          }
        },
        {
          "output_type": "display_data",
          "data": {
            "image/png": "[encoded data removed]",
            "text/plain": [
              "<Figure size 360x144 with 1 Axes>"
            ]
          },
          "metadata": {
            "tags": []
          }
        },
        {
          "output_type": "display_data",
          "data": {
            "image/png": "[encoded data removed]",
            "text/plain": [
              "<Figure size 360x144 with 1 Axes>"
            ]
          },
          "metadata": {
            "tags": []
          }
        },
        {
          "output_type": "display_data",
          "data": {
            "image/png": "[encoded data removed]",
            "text/plain": [
              "<Figure size 360x144 with 1 Axes>"
            ]
          },
          "metadata": {
            "tags": []
          }
        },
        {
          "output_type": "display_data",
          "data": {
            "image/png": "[encoded data removed]",
            "text/plain": [
              "<Figure size 360x144 with 1 Axes>"
            ]
          },
          "metadata": {
            "tags": []
          }
        },
        {
          "output_type": "display_data",
          "data": {
            "image/png": "[encoded data removed]",
            "text/plain": [
              "<Figure size 360x144 with 1 Axes>"
            ]
          },
          "metadata": {
            "tags": []
          }
        },
        {
          "output_type": "display_data",
          "data": {
            "image/png": "[encoded data removed]",
            "text/plain": [
              "<Figure size 360x144 with 1 Axes>"
            ]
          },
          "metadata": {
            "tags": []
          }
        },
        {
          "output_type": "display_data",
          "data": {
            "image/png": "[encoded data removed]",
            "text/plain": [
              "<Figure size 360x144 with 1 Axes>"
            ]
          },
          "metadata": {
            "tags": []
          }
        }
      ]
    },
    {
      "metadata": {
        "id": "dwKx4QhIzzMl",
        "colab_type": "text"
      },
      "cell_type": "markdown",
      "source": [
        "We can do it by writing a function that plots the count or distribution of each column in the dataframe based on specified inputs\n",
        "     @Args\n",
        "       df: pandas dataframe\n",
        "       col_to_exclude: specific column to exclude from the plot, used for excluded key \n",
        "       object_mode: whether to plot on object data types or not (default: True)\n",
        "        Return\n",
        "       No object returned but visualized plot will return based on specified inputs"
      ]
    },
    {
      "metadata": {
        "id": "fx659FpAlk66",
        "colab_type": "code",
        "colab": {}
      },
      "cell_type": "code",
      "source": [
        "def display_plot(df, col_to_exclude, object_mode = True):\n",
        "    \"\"\" \n",
        "     This function plots the count or distribution of each column in the dataframe based on specified inputs\n",
        "     @Args\n",
        "       df: pandas dataframe\n",
        "       col_to_exclude: specific column to exclude from the plot, used for excluded key \n",
        "       object_mode: whether to plot on object data types or not (default: True)\n",
        "       \n",
        "     Return\n",
        "       No object returned but visualized plot will return based on specified inputs\n",
        "    \"\"\"\n",
        "    n = 0\n",
        "    this = []\n",
        "    \n",
        "    if object_mode:\n",
        "        nrows = 4\n",
        "        ncols = 4\n",
        "        width = 20\n",
        "        height = 20\n",
        "    \n",
        "    else:\n",
        "        nrows = 2\n",
        "        ncols = 2\n",
        "        width = 14\n",
        "        height = 10\n",
        "    \n",
        "    \n",
        "    for column in df.columns:\n",
        "        if object_mode:\n",
        "            if (df[column].dtypes == 'O') & (column != col_to_exclude):\n",
        "                this.append(column)                      \n",
        "        else:\n",
        "            if (df[column].dtypes != 'O'):\n",
        "                this.append(column)\n",
        "     \n",
        "    \n",
        "    fig, ax = plt.subplots(nrows, ncols, sharex=False, sharey=False, figsize=(width, height))\n",
        "    for row in range(nrows):\n",
        "        for col in range(ncols):\n",
        "            if object_mode:\n",
        "                g = sns.countplot(df[this[n]], ax=ax[row][col]) \n",
        "            else:\n",
        "                g = sns.distplot(df[this[n]], ax = ax[row][col])\n",
        "\n",
        "\n",
        "            \n",
        "            ax[row,col].set_title(\"Column name: {}\".format(this[n]))\n",
        "            ax[row, col].set_xlabel(\"\")\n",
        "            ax[row, col].set_ylabel(\"\")\n",
        "            n += 1\n",
        "    plt.show();\n",
        "    return None\n"
      ],
      "execution_count": 0,
      "outputs": []
    },
    {
      "metadata": {
        "id": "U4UXL5Bglk69",
        "colab_type": "code",
        "outputId": "968a8b1c-fe85-42ac-eeb3-bc3f9b9ac741",
        "colab": {
          "base_uri": "https://localhost:8080/",
          "height": 1150
        }
      },
      "cell_type": "code",
      "source": [
        "display_plot(df_categorical, 'customerID', object_mode = True)"
      ],
      "execution_count": 0,
      "outputs": [
        {
          "output_type": "display_data",
          "data": {
            "image/png": "[encoded data removed]",
            "text/plain": [
              "<Figure size 1440x1440 with 16 Axes>"
            ]
          },
          "metadata": {
            "tags": []
          }
        }
      ]
    },
    {
      "metadata": {
        "id": "RTcNxMV430d_",
        "colab_type": "text"
      },
      "cell_type": "markdown",
      "source": [
        "Distribution of Numerical Variables "
      ]
    },
    {
      "metadata": {
        "id": "3Q37Hcxj01Ij",
        "colab_type": "code",
        "outputId": "5130e3ae-c518-4256-dc6c-5435ae5827f3",
        "colab": {
          "base_uri": "https://localhost:8080/",
          "height": 285
        }
      },
      "cell_type": "code",
      "source": [
        "df_numerical[column_numerical].hist(bins=30, figsize=(20,20), layout=(4,3))\n",
        "plt.show()"
      ],
      "execution_count": 0,
      "outputs": [
        {
          "output_type": "display_data",
          "data": {
            "image/png": "[encoded data removed]",
            "text/plain": [
              "<Figure size 1440x1440 with 12 Axes>"
            ]
          },
          "metadata": {
            "tags": []
          }
        }
      ]
    },
    {
      "metadata": {
        "id": "PUVQxU2o0VoJ",
        "colab_type": "text"
      },
      "cell_type": "markdown",
      "source": [
        "### Since the datpoints are skewed , we need do mathematical operations for normalizing them"
      ]
    },
    {
      "metadata": {
        "id": "mHj4GOpzlk7C",
        "colab_type": "text"
      },
      "cell_type": "markdown",
      "source": [
        "###  feature Engineering "
      ]
    },
    {
      "metadata": {
        "id": "r2VtG4OElk7D",
        "colab_type": "text"
      },
      "cell_type": "markdown",
      "source": [
        "Based on the value of the services the subscribers subscribed to, there are **yes**, **no**, and **no phone / internet service**. These are somewhat related to primary products. Examples are illustrated through *panda crosstab* function below:\n",
        "\n",
        "1. **Phone service (Primary) and Multiple lines (Secondary)**\n"
      ]
    },
    {
      "metadata": {
        "id": "rdEUutTalk7E",
        "colab_type": "code",
        "outputId": "91a5269f-3e31-4815-8bae-63ed92030098",
        "colab": {
          "base_uri": "https://localhost:8080/",
          "height": 136
        }
      },
      "cell_type": "code",
      "source": [
        "pd.crosstab(index = df[\"PhoneService\"], columns = df[\"MultipleLines\"])"
      ],
      "execution_count": 0,
      "outputs": [
        {
          "output_type": "execute_result",
          "data": {
            "text/html": [
              "<div>\n",
              "<style scoped>\n",
              "    .dataframe tbody tr th:only-of-type {\n",
              "        vertical-align: middle;\n",
              "    }\n",
              "\n",
              "    .dataframe tbody tr th {\n",
              "        vertical-align: top;\n",
              "    }\n",
              "\n",
              "    .dataframe thead th {\n",
              "        text-align: right;\n",
              "    }\n",
              "</style>\n",
              "<table border=\"1\" class=\"dataframe\">\n",
              "  <thead>\n",
              "    <tr style=\"text-align: right;\">\n",
              "      <th>MultipleLines</th>\n",
              "      <th>No</th>\n",
              "      <th>No phone service</th>\n",
              "      <th>Yes</th>\n",
              "    </tr>\n",
              "    <tr>\n",
              "      <th>PhoneService</th>\n",
              "      <th></th>\n",
              "      <th></th>\n",
              "      <th></th>\n",
              "    </tr>\n",
              "  </thead>\n",
              "  <tbody>\n",
              "    <tr>\n",
              "      <th>No</th>\n",
              "      <td>0</td>\n",
              "      <td>682</td>\n",
              "      <td>0</td>\n",
              "    </tr>\n",
              "    <tr>\n",
              "      <th>Yes</th>\n",
              "      <td>3390</td>\n",
              "      <td>0</td>\n",
              "      <td>2971</td>\n",
              "    </tr>\n",
              "  </tbody>\n",
              "</table>\n",
              "</div>"
            ],
            "text/plain": [
              "MultipleLines    No  No phone service   Yes\n",
              "PhoneService                               \n",
              "No                0               682     0\n",
              "Yes            3390                 0  2971"
            ]
          },
          "metadata": {
            "tags": []
          },
          "execution_count": 25
        }
      ]
    },
    {
      "metadata": {
        "id": "cH38sQbte35X",
        "colab_type": "text"
      },
      "cell_type": "markdown",
      "source": [
        " - If the subscribers have phone service, they may have multiple lines (yes or no). \n",
        " - But if the subscribers don't have phone service, the subscribers will never have multiple lines.\n",
        " "
      ]
    },
    {
      "metadata": {
        "id": "s2fG4aOFlk7G",
        "colab_type": "text"
      },
      "cell_type": "markdown",
      "source": [
        "2. **Internet Service (Primary) and other services, let's say streaming TV (secondary)**"
      ]
    },
    {
      "metadata": {
        "id": "L3pG61yVlk7H",
        "colab_type": "code",
        "outputId": "61a840cb-537b-4093-8ce1-9114f41ac69f",
        "colab": {
          "base_uri": "https://localhost:8080/",
          "height": 166
        }
      },
      "cell_type": "code",
      "source": [
        "pd.crosstab(index = df[\"InternetService\"], columns = df[\"StreamingTV\"])"
      ],
      "execution_count": 0,
      "outputs": [
        {
          "output_type": "execute_result",
          "data": {
            "text/html": [
              "<div>\n",
              "<style scoped>\n",
              "    .dataframe tbody tr th:only-of-type {\n",
              "        vertical-align: middle;\n",
              "    }\n",
              "\n",
              "    .dataframe tbody tr th {\n",
              "        vertical-align: top;\n",
              "    }\n",
              "\n",
              "    .dataframe thead th {\n",
              "        text-align: right;\n",
              "    }\n",
              "</style>\n",
              "<table border=\"1\" class=\"dataframe\">\n",
              "  <thead>\n",
              "    <tr style=\"text-align: right;\">\n",
              "      <th>StreamingTV</th>\n",
              "      <th>No</th>\n",
              "      <th>No internet service</th>\n",
              "      <th>Yes</th>\n",
              "    </tr>\n",
              "    <tr>\n",
              "      <th>InternetService</th>\n",
              "      <th></th>\n",
              "      <th></th>\n",
              "      <th></th>\n",
              "    </tr>\n",
              "  </thead>\n",
              "  <tbody>\n",
              "    <tr>\n",
              "      <th>DSL</th>\n",
              "      <td>1464</td>\n",
              "      <td>0</td>\n",
              "      <td>957</td>\n",
              "    </tr>\n",
              "    <tr>\n",
              "      <th>Fiber optic</th>\n",
              "      <td>1346</td>\n",
              "      <td>0</td>\n",
              "      <td>1750</td>\n",
              "    </tr>\n",
              "    <tr>\n",
              "      <th>No</th>\n",
              "      <td>0</td>\n",
              "      <td>1526</td>\n",
              "      <td>0</td>\n",
              "    </tr>\n",
              "  </tbody>\n",
              "</table>\n",
              "</div>"
            ],
            "text/plain": [
              "StreamingTV        No  No internet service   Yes\n",
              "InternetService                                 \n",
              "DSL              1464                    0   957\n",
              "Fiber optic      1346                    0  1750\n",
              "No                  0                 1526     0"
            ]
          },
          "metadata": {
            "tags": []
          },
          "execution_count": 26
        }
      ]
    },
    {
      "metadata": {
        "id": "rHDVQi7Pe-98",
        "colab_type": "text"
      },
      "cell_type": "markdown",
      "source": [
        " - If the subscribers have Internet services (either DSL or Fiber optic), the subscribers may opt to have other services related to Internet (i.e. streaming TV, device protection).\n",
        " - But if the subscribers don't have the Internet services, this secondary service will not be available for the subscribers.\n",
        " "
      ]
    },
    {
      "metadata": {
        "id": "yRjulZrSlk7J",
        "colab_type": "text"
      },
      "cell_type": "markdown",
      "source": [
        "\n",
        "With this conclusion, I opt to transform the feature value of **No Phone / Internet service** to be the same **No** because it can be used another features (hence, **phone service** and **internet service** column) to explain."
      ]
    },
    {
      "metadata": {
        "id": "QoUYKYgQkXif",
        "colab_type": "code",
        "outputId": "d2f0d1de-6624-4db1-e734-70d99aeac5c1",
        "colab": {
          "base_uri": "https://localhost:8080/",
          "height": 101
        }
      },
      "cell_type": "code",
      "source": [
        "# Now Let's Start Comparing.\n",
        "# Gender Vs Churn\n",
        "print(pd.crosstab(df.gender,df.Churn,margins=True))"
      ],
      "execution_count": 0,
      "outputs": [
        {
          "output_type": "stream",
          "text": [
            "Churn     No   Yes   All\n",
            "gender                  \n",
            "Female  2549   939  3488\n",
            "Male    2625   930  3555\n",
            "All     5174  1869  7043\n"
          ],
          "name": "stdout"
        }
      ]
    },
    {
      "metadata": {
        "id": "aUSTXbomkyE8",
        "colab_type": "code",
        "outputId": "498b4927-438b-4e45-b0c0-959a343b0256",
        "colab": {
          "base_uri": "https://localhost:8080/",
          "height": 50
        }
      },
      "cell_type": "code",
      "source": [
        "print('Percent of Females that Left the Company {0}'.format((939*100/1869)))\n",
        "print('Percent of Males that Left the Company {0}'.format((930*100/1869)))"
      ],
      "execution_count": 0,
      "outputs": [
        {
          "output_type": "stream",
          "text": [
            "Percent of Females that Left the Company 50\n",
            "Percent of Males that Left the Company 49\n"
          ],
          "name": "stdout"
        }
      ]
    },
    {
      "metadata": {
        "id": "IRvWtijpkpNq",
        "colab_type": "code",
        "outputId": "65b65e75-4b7b-421a-ae28-f5f75d6f8f82",
        "colab": {
          "base_uri": "https://localhost:8080/",
          "height": 374
        }
      },
      "cell_type": "code",
      "source": [
        "pd.crosstab(df.gender,df.Churn,margins=True).plot(kind='bar',figsize=(7,5))"
      ],
      "execution_count": 0,
      "outputs": [
        {
          "output_type": "execute_result",
          "data": {
            "text/plain": [
              "<matplotlib.axes._subplots.AxesSubplot at 0x7fab6d075910>"
            ]
          },
          "metadata": {
            "tags": []
          },
          "execution_count": 29
        },
        {
          "output_type": "display_data",
          "data": {
            "image/png": "[encoded data removed]",
            "text/plain": [
              "<Figure size 504x360 with 1 Axes>"
            ]
          },
          "metadata": {
            "tags": []
          }
        }
      ]
    },
    {
      "metadata": {
        "id": "HnYR-MYdlk7S",
        "colab_type": "text"
      },
      "cell_type": "markdown",
      "source": [
        "**We can See that Gender Does'nt Play an important Role in Predicting Our Target Variable.**"
      ]
    },
    {
      "metadata": {
        "id": "vKZnej8Hlyzf",
        "colab_type": "code",
        "outputId": "70c3a1b4-7020-42ae-d75a-837a48bc43d0",
        "colab": {
          "base_uri": "https://localhost:8080/",
          "height": 118
        }
      },
      "cell_type": "code",
      "source": [
        "# Contract Vs Churn\n",
        "print(pd.crosstab(df.Contract,df.Churn,margins=True))"
      ],
      "execution_count": 0,
      "outputs": [
        {
          "output_type": "stream",
          "text": [
            "Churn             No   Yes   All\n",
            "Contract                        \n",
            "Month-to-month  2220  1655  3875\n",
            "One year        1307   166  1473\n",
            "Two year        1647    48  1695\n",
            "All             5174  1869  7043\n"
          ],
          "name": "stdout"
        }
      ]
    },
    {
      "metadata": {
        "id": "aHk_UZKjlyg-",
        "colab_type": "code",
        "outputId": "f69c14eb-1e41-41c9-e1d7-0714a7260b31",
        "colab": {
          "base_uri": "https://localhost:8080/",
          "height": 67
        }
      },
      "cell_type": "code",
      "source": [
        "print('Percent of Month-to-Month Contract People that Left the Company {0}'.format((1655*100/1869)))\n",
        "print('Percent of One-Year Contract People that Left the Company {0}'.format((166*100/1869))) \n",
        "print('Percent of Two-Year Contract People that Left the Company {0}'.format((48*100/1869))) "
      ],
      "execution_count": 0,
      "outputs": [
        {
          "output_type": "stream",
          "text": [
            "Percent of Month-to-Month Contract People that Left the Company 88\n",
            "Percent of One-Year Contract People that Left the Company 8\n",
            "Percent of Two-Year Contract People that Left the Company 2\n"
          ],
          "name": "stdout"
        }
      ]
    },
    {
      "metadata": {
        "id": "8hknIRRvlk7S",
        "colab_type": "code",
        "outputId": "76b73c71-8958-4a71-b6cf-ec11f61683ce",
        "colab": {
          "base_uri": "https://localhost:8080/",
          "height": 412
        }
      },
      "cell_type": "code",
      "source": [
        "pd.crosstab(df.Contract,df.Churn,margins=True).plot(kind='bar',figsize=(7,5))"
      ],
      "execution_count": 0,
      "outputs": [
        {
          "output_type": "execute_result",
          "data": {
            "text/plain": [
              "<matplotlib.axes._subplots.AxesSubplot at 0x7fab6d075550>"
            ]
          },
          "metadata": {
            "tags": []
          },
          "execution_count": 32
        },
        {
          "output_type": "display_data",
          "data": {
            "image/png": "[encoded data removed]",
            "text/plain": [
              "<Figure size 504x360 with 1 Axes>"
            ]
          },
          "metadata": {
            "tags": []
          }
        }
      ]
    },
    {
      "metadata": {
        "id": "x-8SqidUlk7V",
        "colab_type": "text"
      },
      "cell_type": "markdown",
      "source": [
        "**Most of the People that Left were the Ones who had Month-to-Month  Contract.**"
      ]
    },
    {
      "metadata": {
        "id": "wvkvs619mUtT",
        "colab_type": "code",
        "outputId": "49554ea5-4f4a-41ef-ebad-1e4cc69bd1ea",
        "colab": {
          "base_uri": "https://localhost:8080/",
          "height": 118
        }
      },
      "cell_type": "code",
      "source": [
        "# Internet Service Vs Churn\n",
        "print(pd.crosstab(df.InternetService,df.Churn,margins=True))"
      ],
      "execution_count": 0,
      "outputs": [
        {
          "output_type": "stream",
          "text": [
            "Churn              No   Yes   All\n",
            "InternetService                  \n",
            "DSL              1962   459  2421\n",
            "Fiber optic      1799  1297  3096\n",
            "No               1413   113  1526\n",
            "All              5174  1869  7043\n"
          ],
          "name": "stdout"
        }
      ]
    },
    {
      "metadata": {
        "id": "QwOK9L1lmUhB",
        "colab_type": "code",
        "outputId": "82e718d0-4abf-4b5c-db17-c9d16633c8d8",
        "colab": {
          "base_uri": "https://localhost:8080/",
          "height": 67
        }
      },
      "cell_type": "code",
      "source": [
        "print('Percent of DSL Internet-Service People that Left the Company {0}'.format((459*100/1869)))\n",
        "print('Percent of Fiber Optic Internet-Service People that Left the Company {0}'.format((1297*100/1869))) \n",
        "print('Percent of No Internet-Service People that Left the Company {0}'.format((113*100/1869)))"
      ],
      "execution_count": 0,
      "outputs": [
        {
          "output_type": "stream",
          "text": [
            "Percent of DSL Internet-Service People that Left the Company 24\n",
            "Percent of Fiber Optic Internet-Service People that Left the Company 69\n",
            "Percent of No Internet-Service People that Left the Company 6\n"
          ],
          "name": "stdout"
        }
      ]
    },
    {
      "metadata": {
        "id": "kI9bsGKilk7W",
        "colab_type": "code",
        "outputId": "decb5f8b-cbda-4a58-a645-2e80885b5ac2",
        "colab": {
          "base_uri": "https://localhost:8080/",
          "height": 370
        }
      },
      "cell_type": "code",
      "source": [
        "pd.crosstab(df.InternetService,df.Churn,margins=True).plot(kind='bar',figsize=(7,5), color=['black', 'red', 'green', 'blue', 'cyan']);     "
      ],
      "execution_count": 0,
      "outputs": [
        {
          "output_type": "display_data",
          "data": {
            "image/png": "[encoded data removed]",
            "text/plain": [
              "<Figure size 504x360 with 1 Axes>"
            ]
          },
          "metadata": {
            "tags": []
          }
        }
      ]
    },
    {
      "metadata": {
        "id": "UwDZhIpclk7a",
        "colab_type": "text"
      },
      "cell_type": "markdown",
      "source": [
        "**Most of the people That Left had Fiber Optic Internet-Service.**"
      ]
    },
    {
      "metadata": {
        "id": "LmegXngdm60X",
        "colab_type": "code",
        "outputId": "6d9cad1e-5419-4cfa-bf4a-fb2672af10c5",
        "colab": {
          "base_uri": "https://localhost:8080/",
          "height": 101
        }
      },
      "cell_type": "code",
      "source": [
        "# Partner Vs Dependents\n",
        "print(pd.crosstab(df.Partner,df.Dependents,margins=True))"
      ],
      "execution_count": 0,
      "outputs": [
        {
          "output_type": "stream",
          "text": [
            "Dependents    No   Yes   All\n",
            "Partner                     \n",
            "No          3280   361  3641\n",
            "Yes         1653  1749  3402\n",
            "All         4933  2110  7043\n"
          ],
          "name": "stdout"
        }
      ]
    },
    {
      "metadata": {
        "id": "vNRp-mm_m6wJ",
        "colab_type": "code",
        "outputId": "8a468c66-b15d-48cd-992e-e3ed57e020ec",
        "colab": {
          "base_uri": "https://localhost:8080/",
          "height": 50
        }
      },
      "cell_type": "code",
      "source": [
        "print('Percent of Partner that had Dependents {0}'.format((1749*100/2110)))\n",
        "print('Percent of Non-Partner that had Dependents {0}'.format((361*100/2110)))"
      ],
      "execution_count": 0,
      "outputs": [
        {
          "output_type": "stream",
          "text": [
            "Percent of Partner that had Dependents 82\n",
            "Percent of Non-Partner that had Dependents 17\n"
          ],
          "name": "stdout"
        }
      ]
    },
    {
      "metadata": {
        "id": "ARvm3Jo9lk7b",
        "colab_type": "code",
        "outputId": "83eb1e46-a75c-4395-f7cb-f04da80c2a24",
        "colab": {
          "base_uri": "https://localhost:8080/",
          "height": 358
        }
      },
      "cell_type": "code",
      "source": [
        "pd.crosstab(df.Partner,df.Dependents,margins=True).plot(kind='bar',figsize=(5,5), color =['cyan', 'red', 'blue'])"
      ],
      "execution_count": 0,
      "outputs": [
        {
          "output_type": "execute_result",
          "data": {
            "text/plain": [
              "<matplotlib.axes._subplots.AxesSubplot at 0x7fab6cf69f90>"
            ]
          },
          "metadata": {
            "tags": []
          },
          "execution_count": 38
        },
        {
          "output_type": "display_data",
          "data": {
            "image/png": "[encoded data removed]",
            "text/plain": [
              "<Figure size 360x360 with 1 Axes>"
            ]
          },
          "metadata": {
            "tags": []
          }
        }
      ]
    },
    {
      "metadata": {
        "id": "Zut5UZnzlk7g",
        "colab_type": "text"
      },
      "cell_type": "markdown",
      "source": [
        "**We can See Partners had a much larger percent of Dependents than Non-Partner this tells us that Most Partners might be Married.**"
      ]
    },
    {
      "metadata": {
        "id": "8HMMceVflk7h",
        "colab_type": "code",
        "outputId": "2150c9fe-52fb-4086-8d9f-2270a4a68b13",
        "colab": {
          "base_uri": "https://localhost:8080/",
          "height": 425
        }
      },
      "cell_type": "code",
      "source": [
        "# Partner Vs Churn\n",
        "print(pd.crosstab(df.Partner,df.Churn,margins=True))\n",
        "pd.crosstab(df.Partner,df.Churn,margins=True).plot(kind='bar',figsize=(5,5), color =['black', 'red', 'green'] );"
      ],
      "execution_count": 0,
      "outputs": [
        {
          "output_type": "stream",
          "text": [
            "Churn      No   Yes   All\n",
            "Partner                  \n",
            "No       2441  1200  3641\n",
            "Yes      2733   669  3402\n",
            "All      5174  1869  7043\n"
          ],
          "name": "stdout"
        },
        {
          "output_type": "display_data",
          "data": {
            "image/png": "[encoded data removed]",
            "text/plain": [
              "<Figure size 360x360 with 1 Axes>"
            ]
          },
          "metadata": {
            "tags": []
          }
        }
      ]
    },
    {
      "metadata": {
        "id": "daBTChzolk7k",
        "colab_type": "code",
        "outputId": "8737bd72-e538-4f8d-b3e0-f900ea5173da",
        "colab": {
          "base_uri": "https://localhost:8080/",
          "height": 497
        }
      },
      "cell_type": "code",
      "source": [
        "plt.figure(figsize=(22,8))\n",
        "sns.countplot(x=df['tenure'],hue=df.Partner);"
      ],
      "execution_count": 0,
      "outputs": [
        {
          "output_type": "display_data",
          "data": {
            "image/png": "[encoded data removed]",
            "text/plain": [
              "<Figure size 1584x576 with 1 Axes>"
            ]
          },
          "metadata": {
            "tags": []
          }
        }
      ]
    },
    {
      "metadata": {
        "id": "vuM9jId6lk7n",
        "colab_type": "text"
      },
      "cell_type": "markdown",
      "source": [
        "**Most of the People that Were Partner will Stay Longer with The Company. So Being a Partner is a Plus-Point For the Company as they will Stay Longer with Them.**"
      ]
    },
    {
      "metadata": {
        "id": "w0GLyhxGlk7n",
        "colab_type": "code",
        "outputId": "b8717a97-f7f5-47ea-b5dd-eb229c08a984",
        "colab": {
          "base_uri": "https://localhost:8080/",
          "height": 371
        }
      },
      "cell_type": "code",
      "source": [
        "# Partner Vs Churn\n",
        "print(pd.crosstab(df.Partner,df.Churn,margins=True))\n",
        "pd.crosstab(df.Partner,df.Churn,normalize=True).plot(kind='bar',color=['orange', 'cyan','black', 'red', 'green']);"
      ],
      "execution_count": 0,
      "outputs": [
        {
          "output_type": "stream",
          "text": [
            "Churn      No   Yes   All\n",
            "Partner                  \n",
            "No       2441  1200  3641\n",
            "Yes      2733   669  3402\n",
            "All      5174  1869  7043\n"
          ],
          "name": "stdout"
        },
        {
          "output_type": "display_data",
          "data": {
            "image/png": "[encoded data removed]",
            "text/plain": [
              "<Figure size 432x288 with 1 Axes>"
            ]
          },
          "metadata": {
            "tags": []
          }
        }
      ]
    },
    {
      "metadata": {
        "id": "BVVgifhxttp2",
        "colab_type": "code",
        "outputId": "895a1162-f188-4844-affc-8c547ec9d3f9",
        "colab": {
          "base_uri": "https://localhost:8080/",
          "height": 50
        }
      },
      "cell_type": "code",
      "source": [
        "print('Percent of Partner that Churn {0}'.format((669*100/3402)))\n",
        "print('Percent of Non-Partner that Churn {0}'.format((1200*100/3641)))"
      ],
      "execution_count": 0,
      "outputs": [
        {
          "output_type": "stream",
          "text": [
            "Percent of Partner that Churn 19\n",
            "Percent of Non-Partner that Churn 32\n"
          ],
          "name": "stdout"
        }
      ]
    },
    {
      "metadata": {
        "id": "5SA-cJKTuB9e",
        "colab_type": "text"
      },
      "cell_type": "markdown",
      "source": [
        "### It is clearly seen that percentage of Churn Out is more in Non-Partner cases"
      ]
    },
    {
      "metadata": {
        "id": "q8pEqeSvlk7r",
        "colab_type": "code",
        "outputId": "8b18adbf-8ebe-4a27-8a71-6f43ddd00379",
        "colab": {
          "base_uri": "https://localhost:8080/",
          "height": 359
        }
      },
      "cell_type": "code",
      "source": [
        "# Senior Citizen Vs Churn\n",
        "print(pd.crosstab(df.SeniorCitizen,df.Churn,margins=True))\n",
        "pd.crosstab(df.SeniorCitizen,df.Churn,normalize=True).plot(kind='bar', color = ['blue','orange']);"
      ],
      "execution_count": 0,
      "outputs": [
        {
          "output_type": "stream",
          "text": [
            "Churn            No   Yes   All\n",
            "SeniorCitizen                  \n",
            "0              4508  1393  5901\n",
            "1               666   476  1142\n",
            "All            5174  1869  7043\n"
          ],
          "name": "stdout"
        },
        {
          "output_type": "display_data",
          "data": {
            "image/png": "[encoded data removed]",
            "text/plain": [
              "<Figure size 432x288 with 1 Axes>"
            ]
          },
          "metadata": {
            "tags": []
          }
        }
      ]
    },
    {
      "metadata": {
        "id": "V__h_irXuP3P",
        "colab_type": "code",
        "outputId": "6aae911e-0199-46b2-a90c-3b719f2f2d0f",
        "colab": {
          "base_uri": "https://localhost:8080/",
          "height": 50
        }
      },
      "cell_type": "code",
      "source": [
        "print('Percent of Senior Citizen that Churn {0}'.format((476*100/1142)))\n",
        "print('Percent of Non-Senior Citizen that Churn {0}'.format((1393*100/5901)))"
      ],
      "execution_count": 0,
      "outputs": [
        {
          "output_type": "stream",
          "text": [
            "Percent of Senior Citizen that Churn 41\n",
            "Percent of Non-Senior Citizen that Churn 23\n"
          ],
          "name": "stdout"
        }
      ]
    },
    {
      "metadata": {
        "id": "tFjC7XX1uRDo",
        "colab_type": "text"
      },
      "cell_type": "markdown",
      "source": [
        "### Churn Out percentage is more in case of Senior Citizens. Company should design attractive plans for senior citizen for retention."
      ]
    },
    {
      "metadata": {
        "id": "X3x339m-lk7t",
        "colab_type": "text"
      },
      "cell_type": "markdown",
      "source": [
        "## Let's Check for Outliers if any"
      ]
    },
    {
      "metadata": {
        "scrolled": true,
        "id": "qT7pUG2jlk7t",
        "colab_type": "code",
        "outputId": "e66fab3c-ee46-4b8d-ce15-47c411e7ece8",
        "colab": {
          "base_uri": "https://localhost:8080/",
          "height": 282
        }
      },
      "cell_type": "code",
      "source": [
        "df.boxplot('MonthlyCharges')"
      ],
      "execution_count": 0,
      "outputs": [
        {
          "output_type": "execute_result",
          "data": {
            "text/plain": [
              "<matplotlib.axes._subplots.AxesSubplot at 0x7fab6d057190>"
            ]
          },
          "metadata": {
            "tags": []
          },
          "execution_count": 45
        },
        {
          "output_type": "display_data",
          "data": {
            "image/png": "[encoded data removed]",
            "text/plain": [
              "<Figure size 432x288 with 1 Axes>"
            ]
          },
          "metadata": {
            "tags": []
          }
        }
      ]
    },
    {
      "metadata": {
        "id": "BaPo-1gZyDrK",
        "colab_type": "code",
        "outputId": "e943e9a2-8035-42e8-8249-33af1143e43c",
        "colab": {
          "base_uri": "https://localhost:8080/",
          "height": 282
        }
      },
      "cell_type": "code",
      "source": [
        "df.boxplot('TotalCharges')"
      ],
      "execution_count": 0,
      "outputs": [
        {
          "output_type": "execute_result",
          "data": {
            "text/plain": [
              "<matplotlib.axes._subplots.AxesSubplot at 0x7fab6cd7e4d0>"
            ]
          },
          "metadata": {
            "tags": []
          },
          "execution_count": 46
        },
        {
          "output_type": "display_data",
          "data": {
            "image/png": "[encoded data removed]",
            "text/plain": [
              "<Figure size 432x288 with 1 Axes>"
            ]
          },
          "metadata": {
            "tags": []
          }
        }
      ]
    },
    {
      "metadata": {
        "id": "-1_EHG9sx7v1",
        "colab_type": "code",
        "outputId": "1c089e74-a9d5-4655-aa74-689eab55bd66",
        "colab": {
          "base_uri": "https://localhost:8080/",
          "height": 282
        }
      },
      "cell_type": "code",
      "source": [
        "df.boxplot('tenure')"
      ],
      "execution_count": 0,
      "outputs": [
        {
          "output_type": "execute_result",
          "data": {
            "text/plain": [
              "<matplotlib.axes._subplots.AxesSubplot at 0x7fab6c883ad0>"
            ]
          },
          "metadata": {
            "tags": []
          },
          "execution_count": 47
        },
        {
          "output_type": "display_data",
          "data": {
            "image/png": "[encoded data removed]",
            "text/plain": [
              "<Figure size 432x288 with 1 Axes>"
            ]
          },
          "metadata": {
            "tags": []
          }
        }
      ]
    },
    {
      "metadata": {
        "id": "DlWf6Ztmlk7v",
        "colab_type": "text"
      },
      "cell_type": "markdown",
      "source": [
        "**Monthly Charges , Total Charges and Tenure don't have any Outliers so we don't have to Get into Extracting Information from Outliers.**"
      ]
    },
    {
      "metadata": {
        "id": "J2P6-LgIlk72",
        "colab_type": "text"
      },
      "cell_type": "markdown",
      "source": [
        "## Bi-Variate"
      ]
    },
    {
      "metadata": {
        "id": "z3JRuQG0ybyI",
        "colab_type": "text"
      },
      "cell_type": "markdown",
      "source": [
        "## Correlation"
      ]
    },
    {
      "metadata": {
        "id": "Ufv_sKHtlk7w",
        "colab_type": "code",
        "outputId": "8753096f-2ec7-445e-de85-6dedbd31d5cd",
        "colab": {
          "base_uri": "https://localhost:8080/",
          "height": 265
        }
      },
      "cell_type": "code",
      "source": [
        "# Checking correlation \n",
        "\n",
        "sns.heatmap(df.corr(),xticklabels=df.corr().columns.values,yticklabels=df.corr().columns.values,annot=True);"
      ],
      "execution_count": 0,
      "outputs": [
        {
          "output_type": "display_data",
          "data": {
            "image/png": "[encoded data removed]",
            "text/plain": [
              "<Figure size 432x288 with 2 Axes>"
            ]
          },
          "metadata": {
            "tags": []
          }
        }
      ]
    },
    {
      "metadata": {
        "id": "ixm19x30lk7z",
        "colab_type": "text"
      },
      "cell_type": "markdown",
      "source": [
        "**Here We can See Tenure and Total Charges are correlated and also Monthly charges and Total Charges are also correlated with each other.**"
      ]
    },
    {
      "metadata": {
        "id": "LCyr6ZEKzosz",
        "colab_type": "code",
        "outputId": "07a5466b-99a2-45ea-ff62-a4e670f61b1d",
        "colab": {
          "base_uri": "https://localhost:8080/",
          "height": 562
        }
      },
      "cell_type": "code",
      "source": [
        "sns.pairplot(df_numerical,kind ='reg',diag_kind='kde',plot_kws={'line_kws':{'color':'red'}} )"
      ],
      "execution_count": 0,
      "outputs": [
        {
          "output_type": "execute_result",
          "data": {
            "text/plain": [
              "<seaborn.axisgrid.PairGrid at 0x7fab6c8241d0>"
            ]
          },
          "metadata": {
            "tags": []
          },
          "execution_count": 49
        },
        {
          "output_type": "display_data",
          "data": {
            "image/png": "[encoded data removed]",
            "text/plain": [
              "<Figure size 540x540 with 12 Axes>"
            ]
          },
          "metadata": {
            "tags": []
          }
        }
      ]
    },
    {
      "metadata": {
        "id": "T_d2q0gL0nBH",
        "colab_type": "text"
      },
      "cell_type": "markdown",
      "source": [
        "### Since the datapoints are skewed, we need to do normalizing steps"
      ]
    },
    {
      "metadata": {
        "id": "ADVkwYijlk72",
        "colab_type": "text"
      },
      "cell_type": "markdown",
      "source": [
        "## <a id='9.4'> Bucketing </a>"
      ]
    },
    {
      "metadata": {
        "id": "7l_4DMqslk72",
        "colab_type": "code",
        "colab": {}
      },
      "cell_type": "code",
      "source": [
        "#Tenure to categorical column\n",
        "def tenure_lab(telcom) :\n",
        "    \n",
        "    if telcom[\"tenure\"] <= 12 :\n",
        "        return \"Tenure_0-12\"\n",
        "    elif (telcom[\"tenure\"] > 12) & (telcom[\"tenure\"] <= 24 ):\n",
        "        return \"Tenure_12-24\"\n",
        "    elif (telcom[\"tenure\"] > 24) & (telcom[\"tenure\"] <= 48) :\n",
        "        return \"Tenure_24-48\"\n",
        "    elif (telcom[\"tenure\"] > 48) & (telcom[\"tenure\"] <= 60) :\n",
        "        return \"Tenure_48-60\"\n",
        "    elif telcom[\"tenure\"] > 60 :\n",
        "        return \"Tenure_gt_60\"\n",
        "    \n",
        "    \n",
        "df[\"tenure_group\"] = df.apply(lambda x:tenure_lab(x),axis = 1)"
      ],
      "execution_count": 0,
      "outputs": []
    },
    {
      "metadata": {
        "id": "dISxlOjE07lA",
        "colab_type": "code",
        "outputId": "f08cff1d-a204-4ef8-ce51-ee4477bb0254",
        "colab": {
          "base_uri": "https://localhost:8080/",
          "height": 118
        }
      },
      "cell_type": "code",
      "source": [
        "df['tenure_group'].head()"
      ],
      "execution_count": 0,
      "outputs": [
        {
          "output_type": "execute_result",
          "data": {
            "text/plain": [
              "0     Tenure_0-12\n",
              "1    Tenure_24-48\n",
              "2     Tenure_0-12\n",
              "3    Tenure_24-48\n",
              "4     Tenure_0-12\n",
              "Name: tenure_group, dtype: object"
            ]
          },
          "metadata": {
            "tags": []
          },
          "execution_count": 51
        }
      ]
    },
    {
      "metadata": {
        "id": "oEmbhOAglk74",
        "colab_type": "text"
      },
      "cell_type": "markdown",
      "source": [
        "# <a id='10'>10. Data preprocessing </a>"
      ]
    },
    {
      "metadata": {
        "id": "k8ROMSJKlk75",
        "colab_type": "text"
      },
      "cell_type": "markdown",
      "source": [
        "## <a id='10.1'> Encoding categorical variable </a>"
      ]
    },
    {
      "metadata": {
        "id": "vRapyhhslk75",
        "colab_type": "code",
        "colab": {}
      },
      "cell_type": "code",
      "source": [
        "#replace values\n",
        "df[\"SeniorCitizen\"] = df[\"SeniorCitizen\"].replace({1:\"Yes\",0:\"No\"})"
      ],
      "execution_count": 0,
      "outputs": []
    },
    {
      "metadata": {
        "id": "5v0Ctm4Wlk77",
        "colab_type": "code",
        "colab": {}
      },
      "cell_type": "code",
      "source": [
        "from sklearn.preprocessing import LabelEncoder\n",
        "from sklearn.preprocessing import StandardScaler\n",
        "\n",
        "#customer id col\n",
        "Id_col     = ['customerID']\n",
        "#Target columns\n",
        "target_col = [\"Churn\"]\n",
        "\n",
        "\n",
        "#categorical columns\n",
        "cat_cols   = df.nunique()[df.nunique() < 6].keys().tolist()\n",
        "cat_cols   = [x for x in cat_cols if x not in target_col]\n",
        "#numerical columns\n",
        "num_cols   = [x for x in df.columns if x not in cat_cols + target_col + Id_col]\n",
        "#Binary columns with 2 values\n",
        "bin_cols   = df.nunique()[df.nunique() == 2].keys().tolist()\n",
        "#Columns more than 2 values\n",
        "multi_cols = [i for i in cat_cols if i not in bin_cols]\n",
        "\n",
        "#Label encoding Binary columns\n",
        "le = LabelEncoder()\n",
        "for i in bin_cols :\n",
        "    df[i] = le.fit_transform(df[i])\n",
        "    \n",
        "#Duplicating columns for multi value columns\n",
        "df = pd.get_dummies(data = df,columns = multi_cols )"
      ],
      "execution_count": 0,
      "outputs": []
    },
    {
      "metadata": {
        "id": "KIdvO8CvClAJ",
        "colab_type": "code",
        "outputId": "e9fb1250-ad0f-44bc-f32f-9c4c2de802bc",
        "colab": {
          "base_uri": "https://localhost:8080/",
          "height": 362
        }
      },
      "cell_type": "code",
      "source": [
        "df.head()"
      ],
      "execution_count": 0,
      "outputs": [
        {
          "output_type": "execute_result",
          "data": {
            "text/html": [
              "<div>\n",
              "<style scoped>\n",
              "    .dataframe tbody tr th:only-of-type {\n",
              "        vertical-align: middle;\n",
              "    }\n",
              "\n",
              "    .dataframe tbody tr th {\n",
              "        vertical-align: top;\n",
              "    }\n",
              "\n",
              "    .dataframe thead th {\n",
              "        text-align: right;\n",
              "    }\n",
              "</style>\n",
              "<table border=\"1\" class=\"dataframe\">\n",
              "  <thead>\n",
              "    <tr style=\"text-align: right;\">\n",
              "      <th></th>\n",
              "      <th>customerID</th>\n",
              "      <th>gender</th>\n",
              "      <th>SeniorCitizen</th>\n",
              "      <th>Partner</th>\n",
              "      <th>Dependents</th>\n",
              "      <th>tenure</th>\n",
              "      <th>PhoneService</th>\n",
              "      <th>PaperlessBilling</th>\n",
              "      <th>MonthlyCharges</th>\n",
              "      <th>TotalCharges</th>\n",
              "      <th>...</th>\n",
              "      <th>Contract_Two year</th>\n",
              "      <th>PaymentMethod_Bank transfer (automatic)</th>\n",
              "      <th>PaymentMethod_Credit card (automatic)</th>\n",
              "      <th>PaymentMethod_Electronic check</th>\n",
              "      <th>PaymentMethod_Mailed check</th>\n",
              "      <th>tenure_group_Tenure_0-12</th>\n",
              "      <th>tenure_group_Tenure_12-24</th>\n",
              "      <th>tenure_group_Tenure_24-48</th>\n",
              "      <th>tenure_group_Tenure_48-60</th>\n",
              "      <th>tenure_group_Tenure_gt_60</th>\n",
              "    </tr>\n",
              "  </thead>\n",
              "  <tbody>\n",
              "    <tr>\n",
              "      <th>0</th>\n",
              "      <td>7590-VHVEG</td>\n",
              "      <td>0</td>\n",
              "      <td>0</td>\n",
              "      <td>1</td>\n",
              "      <td>0</td>\n",
              "      <td>1.0</td>\n",
              "      <td>0</td>\n",
              "      <td>1</td>\n",
              "      <td>29.85</td>\n",
              "      <td>29.85</td>\n",
              "      <td>...</td>\n",
              "      <td>0</td>\n",
              "      <td>0</td>\n",
              "      <td>0</td>\n",
              "      <td>1</td>\n",
              "      <td>0</td>\n",
              "      <td>1</td>\n",
              "      <td>0</td>\n",
              "      <td>0</td>\n",
              "      <td>0</td>\n",
              "      <td>0</td>\n",
              "    </tr>\n",
              "    <tr>\n",
              "      <th>1</th>\n",
              "      <td>5575-GNVDE</td>\n",
              "      <td>1</td>\n",
              "      <td>0</td>\n",
              "      <td>0</td>\n",
              "      <td>0</td>\n",
              "      <td>34.0</td>\n",
              "      <td>1</td>\n",
              "      <td>0</td>\n",
              "      <td>56.95</td>\n",
              "      <td>1889.50</td>\n",
              "      <td>...</td>\n",
              "      <td>0</td>\n",
              "      <td>0</td>\n",
              "      <td>0</td>\n",
              "      <td>0</td>\n",
              "      <td>1</td>\n",
              "      <td>0</td>\n",
              "      <td>0</td>\n",
              "      <td>1</td>\n",
              "      <td>0</td>\n",
              "      <td>0</td>\n",
              "    </tr>\n",
              "    <tr>\n",
              "      <th>2</th>\n",
              "      <td>3668-QPYBK</td>\n",
              "      <td>1</td>\n",
              "      <td>0</td>\n",
              "      <td>0</td>\n",
              "      <td>0</td>\n",
              "      <td>2.0</td>\n",
              "      <td>1</td>\n",
              "      <td>1</td>\n",
              "      <td>53.85</td>\n",
              "      <td>108.15</td>\n",
              "      <td>...</td>\n",
              "      <td>0</td>\n",
              "      <td>0</td>\n",
              "      <td>0</td>\n",
              "      <td>0</td>\n",
              "      <td>1</td>\n",
              "      <td>1</td>\n",
              "      <td>0</td>\n",
              "      <td>0</td>\n",
              "      <td>0</td>\n",
              "      <td>0</td>\n",
              "    </tr>\n",
              "    <tr>\n",
              "      <th>3</th>\n",
              "      <td>7795-CFOCW</td>\n",
              "      <td>1</td>\n",
              "      <td>0</td>\n",
              "      <td>0</td>\n",
              "      <td>0</td>\n",
              "      <td>45.0</td>\n",
              "      <td>0</td>\n",
              "      <td>0</td>\n",
              "      <td>42.30</td>\n",
              "      <td>1840.75</td>\n",
              "      <td>...</td>\n",
              "      <td>0</td>\n",
              "      <td>1</td>\n",
              "      <td>0</td>\n",
              "      <td>0</td>\n",
              "      <td>0</td>\n",
              "      <td>0</td>\n",
              "      <td>0</td>\n",
              "      <td>1</td>\n",
              "      <td>0</td>\n",
              "      <td>0</td>\n",
              "    </tr>\n",
              "    <tr>\n",
              "      <th>4</th>\n",
              "      <td>9237-HQITU</td>\n",
              "      <td>0</td>\n",
              "      <td>0</td>\n",
              "      <td>0</td>\n",
              "      <td>0</td>\n",
              "      <td>2.0</td>\n",
              "      <td>1</td>\n",
              "      <td>1</td>\n",
              "      <td>70.70</td>\n",
              "      <td>151.65</td>\n",
              "      <td>...</td>\n",
              "      <td>0</td>\n",
              "      <td>0</td>\n",
              "      <td>0</td>\n",
              "      <td>1</td>\n",
              "      <td>0</td>\n",
              "      <td>1</td>\n",
              "      <td>0</td>\n",
              "      <td>0</td>\n",
              "      <td>0</td>\n",
              "      <td>0</td>\n",
              "    </tr>\n",
              "  </tbody>\n",
              "</table>\n",
              "<p>5 rows × 47 columns</p>\n",
              "</div>"
            ],
            "text/plain": [
              "   customerID  gender  SeniorCitizen  Partner  Dependents  tenure  \\\n",
              "0  7590-VHVEG       0              0        1           0     1.0   \n",
              "1  5575-GNVDE       1              0        0           0    34.0   \n",
              "2  3668-QPYBK       1              0        0           0     2.0   \n",
              "3  7795-CFOCW       1              0        0           0    45.0   \n",
              "4  9237-HQITU       0              0        0           0     2.0   \n",
              "\n",
              "   PhoneService  PaperlessBilling  MonthlyCharges  TotalCharges  \\\n",
              "0             0                 1           29.85         29.85   \n",
              "1             1                 0           56.95       1889.50   \n",
              "2             1                 1           53.85        108.15   \n",
              "3             0                 0           42.30       1840.75   \n",
              "4             1                 1           70.70        151.65   \n",
              "\n",
              "             ...              Contract_Two year  \\\n",
              "0            ...                              0   \n",
              "1            ...                              0   \n",
              "2            ...                              0   \n",
              "3            ...                              0   \n",
              "4            ...                              0   \n",
              "\n",
              "   PaymentMethod_Bank transfer (automatic)  \\\n",
              "0                                        0   \n",
              "1                                        0   \n",
              "2                                        0   \n",
              "3                                        1   \n",
              "4                                        0   \n",
              "\n",
              "   PaymentMethod_Credit card (automatic)  PaymentMethod_Electronic check  \\\n",
              "0                                      0                               1   \n",
              "1                                      0                               0   \n",
              "2                                      0                               0   \n",
              "3                                      0                               0   \n",
              "4                                      0                               1   \n",
              "\n",
              "   PaymentMethod_Mailed check  tenure_group_Tenure_0-12  \\\n",
              "0                           0                         1   \n",
              "1                           1                         0   \n",
              "2                           1                         1   \n",
              "3                           0                         0   \n",
              "4                           0                         1   \n",
              "\n",
              "   tenure_group_Tenure_12-24  tenure_group_Tenure_24-48  \\\n",
              "0                          0                          0   \n",
              "1                          0                          1   \n",
              "2                          0                          0   \n",
              "3                          0                          1   \n",
              "4                          0                          0   \n",
              "\n",
              "   tenure_group_Tenure_48-60  tenure_group_Tenure_gt_60  \n",
              "0                          0                          0  \n",
              "1                          0                          0  \n",
              "2                          0                          0  \n",
              "3                          0                          0  \n",
              "4                          0                          0  \n",
              "\n",
              "[5 rows x 47 columns]"
            ]
          },
          "metadata": {
            "tags": []
          },
          "execution_count": 54
        }
      ]
    },
    {
      "metadata": {
        "id": "dELBcAnJlk7_",
        "colab_type": "text"
      },
      "cell_type": "markdown",
      "source": [
        "## <a id='10.2'> Normalizing features </a>"
      ]
    },
    {
      "metadata": {
        "id": "4p3iNaAD6npu",
        "colab_type": "code",
        "colab": {}
      },
      "cell_type": "code",
      "source": [
        "from sklearn.preprocessing import StandardScaler"
      ],
      "execution_count": 0,
      "outputs": []
    },
    {
      "metadata": {
        "scrolled": true,
        "id": "un3Vg7kZlk7_",
        "colab_type": "code",
        "colab": {}
      },
      "cell_type": "code",
      "source": [
        "telcom = df\n",
        "telcom = telcom.drop('customerID', axis=1)\n",
        "#Scaling Numerical columns\n",
        "std = StandardScaler()\n",
        "scaled = std.fit_transform(telcom[column_numerical])\n",
        "scaled = pd.DataFrame(scaled,columns=column_numerical)\n",
        "\n",
        "#dropping original values merging scaled values for numerical columns\n",
        "df_telcom_og = telcom.copy()\n",
        "telcom = telcom.drop(columns = column_numerical,axis = 1)\n",
        "telcom = telcom.merge(scaled,left_index=True,right_index=True,how = \"left\")"
      ],
      "execution_count": 0,
      "outputs": []
    },
    {
      "metadata": {
        "id": "la7UV9Z1_j_c",
        "colab_type": "code",
        "outputId": "f2bb3307-cd7c-44b6-b4a7-82ecdb2f3caf",
        "colab": {
          "base_uri": "https://localhost:8080/",
          "height": 261
        }
      },
      "cell_type": "code",
      "source": [
        "telcom.head()"
      ],
      "execution_count": 0,
      "outputs": [
        {
          "output_type": "execute_result",
          "data": {
            "text/html": [
              "<div>\n",
              "<style scoped>\n",
              "    .dataframe tbody tr th:only-of-type {\n",
              "        vertical-align: middle;\n",
              "    }\n",
              "\n",
              "    .dataframe tbody tr th {\n",
              "        vertical-align: top;\n",
              "    }\n",
              "\n",
              "    .dataframe thead th {\n",
              "        text-align: right;\n",
              "    }\n",
              "</style>\n",
              "<table border=\"1\" class=\"dataframe\">\n",
              "  <thead>\n",
              "    <tr style=\"text-align: right;\">\n",
              "      <th></th>\n",
              "      <th>gender</th>\n",
              "      <th>SeniorCitizen</th>\n",
              "      <th>Partner</th>\n",
              "      <th>Dependents</th>\n",
              "      <th>PhoneService</th>\n",
              "      <th>PaperlessBilling</th>\n",
              "      <th>Churn</th>\n",
              "      <th>MultipleLines_No</th>\n",
              "      <th>MultipleLines_No phone service</th>\n",
              "      <th>MultipleLines_Yes</th>\n",
              "      <th>...</th>\n",
              "      <th>PaymentMethod_Electronic check</th>\n",
              "      <th>PaymentMethod_Mailed check</th>\n",
              "      <th>tenure_group_Tenure_0-12</th>\n",
              "      <th>tenure_group_Tenure_12-24</th>\n",
              "      <th>tenure_group_Tenure_24-48</th>\n",
              "      <th>tenure_group_Tenure_48-60</th>\n",
              "      <th>tenure_group_Tenure_gt_60</th>\n",
              "      <th>tenure</th>\n",
              "      <th>MonthlyCharges</th>\n",
              "      <th>TotalCharges</th>\n",
              "    </tr>\n",
              "  </thead>\n",
              "  <tbody>\n",
              "    <tr>\n",
              "      <th>0</th>\n",
              "      <td>0</td>\n",
              "      <td>0</td>\n",
              "      <td>1</td>\n",
              "      <td>0</td>\n",
              "      <td>0</td>\n",
              "      <td>1</td>\n",
              "      <td>0</td>\n",
              "      <td>0</td>\n",
              "      <td>1</td>\n",
              "      <td>0</td>\n",
              "      <td>...</td>\n",
              "      <td>1</td>\n",
              "      <td>0</td>\n",
              "      <td>1</td>\n",
              "      <td>0</td>\n",
              "      <td>0</td>\n",
              "      <td>0</td>\n",
              "      <td>0</td>\n",
              "      <td>-1.277445</td>\n",
              "      <td>-1.160323</td>\n",
              "      <td>-0.994971</td>\n",
              "    </tr>\n",
              "    <tr>\n",
              "      <th>1</th>\n",
              "      <td>1</td>\n",
              "      <td>0</td>\n",
              "      <td>0</td>\n",
              "      <td>0</td>\n",
              "      <td>1</td>\n",
              "      <td>0</td>\n",
              "      <td>0</td>\n",
              "      <td>1</td>\n",
              "      <td>0</td>\n",
              "      <td>0</td>\n",
              "      <td>...</td>\n",
              "      <td>0</td>\n",
              "      <td>1</td>\n",
              "      <td>0</td>\n",
              "      <td>0</td>\n",
              "      <td>1</td>\n",
              "      <td>0</td>\n",
              "      <td>0</td>\n",
              "      <td>0.066327</td>\n",
              "      <td>-0.259629</td>\n",
              "      <td>-0.173876</td>\n",
              "    </tr>\n",
              "    <tr>\n",
              "      <th>2</th>\n",
              "      <td>1</td>\n",
              "      <td>0</td>\n",
              "      <td>0</td>\n",
              "      <td>0</td>\n",
              "      <td>1</td>\n",
              "      <td>1</td>\n",
              "      <td>1</td>\n",
              "      <td>1</td>\n",
              "      <td>0</td>\n",
              "      <td>0</td>\n",
              "      <td>...</td>\n",
              "      <td>0</td>\n",
              "      <td>1</td>\n",
              "      <td>1</td>\n",
              "      <td>0</td>\n",
              "      <td>0</td>\n",
              "      <td>0</td>\n",
              "      <td>0</td>\n",
              "      <td>-1.236724</td>\n",
              "      <td>-0.362660</td>\n",
              "      <td>-0.960399</td>\n",
              "    </tr>\n",
              "    <tr>\n",
              "      <th>3</th>\n",
              "      <td>1</td>\n",
              "      <td>0</td>\n",
              "      <td>0</td>\n",
              "      <td>0</td>\n",
              "      <td>0</td>\n",
              "      <td>0</td>\n",
              "      <td>0</td>\n",
              "      <td>0</td>\n",
              "      <td>1</td>\n",
              "      <td>0</td>\n",
              "      <td>...</td>\n",
              "      <td>0</td>\n",
              "      <td>0</td>\n",
              "      <td>0</td>\n",
              "      <td>0</td>\n",
              "      <td>1</td>\n",
              "      <td>0</td>\n",
              "      <td>0</td>\n",
              "      <td>0.514251</td>\n",
              "      <td>-0.746535</td>\n",
              "      <td>-0.195400</td>\n",
              "    </tr>\n",
              "    <tr>\n",
              "      <th>4</th>\n",
              "      <td>0</td>\n",
              "      <td>0</td>\n",
              "      <td>0</td>\n",
              "      <td>0</td>\n",
              "      <td>1</td>\n",
              "      <td>1</td>\n",
              "      <td>1</td>\n",
              "      <td>1</td>\n",
              "      <td>0</td>\n",
              "      <td>0</td>\n",
              "      <td>...</td>\n",
              "      <td>1</td>\n",
              "      <td>0</td>\n",
              "      <td>1</td>\n",
              "      <td>0</td>\n",
              "      <td>0</td>\n",
              "      <td>0</td>\n",
              "      <td>0</td>\n",
              "      <td>-1.236724</td>\n",
              "      <td>0.197365</td>\n",
              "      <td>-0.941193</td>\n",
              "    </tr>\n",
              "  </tbody>\n",
              "</table>\n",
              "<p>5 rows × 46 columns</p>\n",
              "</div>"
            ],
            "text/plain": [
              "   gender  SeniorCitizen  Partner  Dependents  PhoneService  PaperlessBilling  \\\n",
              "0       0              0        1           0             0                 1   \n",
              "1       1              0        0           0             1                 0   \n",
              "2       1              0        0           0             1                 1   \n",
              "3       1              0        0           0             0                 0   \n",
              "4       0              0        0           0             1                 1   \n",
              "\n",
              "   Churn  MultipleLines_No  MultipleLines_No phone service  MultipleLines_Yes  \\\n",
              "0      0                 0                               1                  0   \n",
              "1      0                 1                               0                  0   \n",
              "2      1                 1                               0                  0   \n",
              "3      0                 0                               1                  0   \n",
              "4      1                 1                               0                  0   \n",
              "\n",
              "       ...       PaymentMethod_Electronic check  PaymentMethod_Mailed check  \\\n",
              "0      ...                                    1                           0   \n",
              "1      ...                                    0                           1   \n",
              "2      ...                                    0                           1   \n",
              "3      ...                                    0                           0   \n",
              "4      ...                                    1                           0   \n",
              "\n",
              "   tenure_group_Tenure_0-12  tenure_group_Tenure_12-24  \\\n",
              "0                         1                          0   \n",
              "1                         0                          0   \n",
              "2                         1                          0   \n",
              "3                         0                          0   \n",
              "4                         1                          0   \n",
              "\n",
              "   tenure_group_Tenure_24-48  tenure_group_Tenure_48-60  \\\n",
              "0                          0                          0   \n",
              "1                          1                          0   \n",
              "2                          0                          0   \n",
              "3                          1                          0   \n",
              "4                          0                          0   \n",
              "\n",
              "   tenure_group_Tenure_gt_60    tenure  MonthlyCharges  TotalCharges  \n",
              "0                          0 -1.277445       -1.160323     -0.994971  \n",
              "1                          0  0.066327       -0.259629     -0.173876  \n",
              "2                          0 -1.236724       -0.362660     -0.960399  \n",
              "3                          0  0.514251       -0.746535     -0.195400  \n",
              "4                          0 -1.236724        0.197365     -0.941193  \n",
              "\n",
              "[5 rows x 46 columns]"
            ]
          },
          "metadata": {
            "tags": []
          },
          "execution_count": 57
        }
      ]
    },
    {
      "metadata": {
        "id": "i_175i-olk8C",
        "colab_type": "text"
      },
      "cell_type": "markdown",
      "source": [
        "## <a id='10.3'> spliting train/val/test data </a>"
      ]
    },
    {
      "metadata": {
        "id": "-diAdqfflk8D",
        "colab_type": "code",
        "colab": {}
      },
      "cell_type": "code",
      "source": [
        "from sklearn.model_selection import train_test_split\n",
        "from sklearn.linear_model import LogisticRegression\n",
        "from sklearn.metrics import confusion_matrix,accuracy_score,classification_report\n",
        "from sklearn.metrics import roc_auc_score,roc_curve,scorer\n",
        "from sklearn.metrics import f1_score\n",
        "import statsmodels.api as sm\n",
        "from sklearn.metrics import precision_score,recall_score\n",
        "from yellowbrick.classifier import DiscriminationThreshold\n",
        "#splitting train and test data \n",
        "\n",
        "target_col = telcom[\"Churn\"]\n",
        "\n",
        "train,test = train_test_split(telcom,test_size = .25 ,random_state = 111)\n",
        "    \n",
        "##seperating dependent and independent variables\n",
        "cols    = [i for i in telcom.columns if i != \"Churn\"]\n",
        "X_train = train[cols]\n",
        "y_train = train[\"Churn\"]\n",
        "X_test  = test[cols]\n",
        "y_test  = test[\"Churn\"]"
      ],
      "execution_count": 0,
      "outputs": []
    },
    {
      "metadata": {
        "id": "SzjhzQ9Hlk8F",
        "colab_type": "text"
      },
      "cell_type": "markdown",
      "source": [
        "# <a id='11'>11. Model Building </a>"
      ]
    },
    {
      "metadata": {
        "id": "UIhXEe_hlk8F",
        "colab_type": "code",
        "colab": {}
      },
      "cell_type": "code",
      "source": [
        "from sklearn.dummy import DummyClassifier\n",
        "\n",
        "# Feature Selection and Encoding\n",
        "from sklearn.decomposition import PCA\n",
        "from sklearn.preprocessing import OneHotEncoder, LabelEncoder, label_binarize\n",
        "\n",
        "# Machine learning \n",
        "from sklearn import tree , linear_model\n",
        "from sklearn.svm import LinearSVC\n",
        "from sklearn.ensemble import RandomForestClassifier, GradientBoostingClassifier\n",
        "from sklearn.neighbors import KNeighborsClassifier\n",
        "from sklearn.naive_bayes import GaussianNB\n",
        "from sklearn.linear_model import LinearRegression, LogisticRegression, Ridge, Lasso, SGDClassifier\n",
        "from sklearn.tree import DecisionTreeClassifier\n",
        "from xgboost.sklearn import XGBClassifier"
      ],
      "execution_count": 0,
      "outputs": []
    },
    {
      "metadata": {
        "id": "EaOOI1Gplk8H",
        "colab_type": "code",
        "colab": {}
      },
      "cell_type": "code",
      "source": [
        "# validation \n",
        "from sklearn import datasets, model_selection, metrics , preprocessing"
      ],
      "execution_count": 0,
      "outputs": []
    },
    {
      "metadata": {
        "id": "IWTlni8Ylk8K",
        "colab_type": "code",
        "colab": {}
      },
      "cell_type": "code",
      "source": [
        "# Grid and Random Search\n",
        "import scipy.stats as st\n",
        "from scipy.stats import randint as sp_randint\n",
        "from sklearn.model_selection import GridSearchCV\n",
        "from sklearn.model_selection import RandomizedSearchCV"
      ],
      "execution_count": 0,
      "outputs": []
    },
    {
      "metadata": {
        "id": "-RpDpjLnlk8L",
        "colab_type": "code",
        "colab": {}
      },
      "cell_type": "code",
      "source": [
        "# Metrics\n",
        "from sklearn.metrics import precision_recall_fscore_support, roc_curve, auc"
      ],
      "execution_count": 0,
      "outputs": []
    },
    {
      "metadata": {
        "id": "CVWY1Xerlk8N",
        "colab_type": "code",
        "colab": {}
      },
      "cell_type": "code",
      "source": [
        "#utilities\n",
        "import time\n",
        "import io, os, sys, types, time, datetime, math, random"
      ],
      "execution_count": 0,
      "outputs": []
    },
    {
      "metadata": {
        "id": "VGMOZmnTlk8P",
        "colab_type": "code",
        "colab": {}
      },
      "cell_type": "code",
      "source": [
        "# calculate the fpr and tpr for all thresholds of the classification\n",
        "def plot_roc_curve(y_test, preds):\n",
        "    fpr, tpr, threshold = metrics.roc_curve(y_test, preds)\n",
        "    roc_auc = metrics.auc(fpr, tpr)\n",
        "    plt.title('Receiver Operating Characteristic')\n",
        "    plt.plot(fpr, tpr, 'b', label = 'AUC = %0.2f' % roc_auc)\n",
        "    plt.legend(loc = 'lower right')\n",
        "    plt.plot([0, 1], [0, 1],'r--')\n",
        "    plt.xlim([-0.01, 1.01])\n",
        "    plt.ylim([-0.01, 1.01])\n",
        "    plt.ylabel('True Positive Rate')\n",
        "    plt.xlabel('False Positive Rate')\n",
        "    plt.show()\n",
        "\n",
        "    \n",
        "\n",
        "# Function that runs the requested algorithm and returns the accuracy metrics\n",
        "def fit_ml_algo(algo, X_train, y_train, X_test, cv):\n",
        "    # One Pass\n",
        "    model = algo.fit(X_train, y_train)\n",
        "    test_pred = model.predict(X_test)\n",
        "    if (isinstance(algo, (LogisticRegression, \n",
        "                          KNeighborsClassifier, \n",
        "                          GaussianNB, \n",
        "                          DecisionTreeClassifier, \n",
        "                          RandomForestClassifier,\n",
        "                          GradientBoostingClassifier))):\n",
        "        probs = model.predict_proba(X_test)[:,1]\n",
        "    else:\n",
        "        probs = \"Not Available\"\n",
        "    acc = round(model.score(X_test, y_test) * 100, 2) \n",
        "    # CV \n",
        "    train_pred = model_selection.cross_val_predict(algo, \n",
        "                                                  X_train, \n",
        "                                                  y_train, \n",
        "                                                  cv=cv, \n",
        "                                                  n_jobs = -1)\n",
        "    acc_cv = round(metrics.accuracy_score(y_train, train_pred) * 100, 2)\n",
        "    return train_pred, test_pred, acc, acc_cv, probs\n",
        "\n",
        "# Utility function to report best scores\n",
        "def report(results, n_top=5):\n",
        "    for i in range(1, n_top + 1):\n",
        "        candidates = np.flatnonzero(results['rank_test_score'] == i)\n",
        "        for candidate in candidates:\n",
        "            print(\"Model with rank: {0}\".format(i))\n",
        "            print(\"Mean validation score: {0:.3f} (std: {1:.3f})\".format(\n",
        "                  results['mean_test_score'][candidate],\n",
        "                  results['std_test_score'][candidate]))\n",
        "            print(\"Parameters: {0}\".format(results['params'][candidate]))\n",
        "            print(\"\")\n",
        "            "
      ],
      "execution_count": 0,
      "outputs": []
    },
    {
      "metadata": {
        "id": "ObKwvi2Vlk8Q",
        "colab_type": "text"
      },
      "cell_type": "markdown",
      "source": [
        "### <a id='11.1'> Baseline model with DummyClassifier</a>"
      ]
    },
    {
      "metadata": {
        "id": "RFwUvYdPlk8R",
        "colab_type": "code",
        "outputId": "9bc3252e-5690-45f7-a343-2956300e6468",
        "colab": {
          "base_uri": "https://localhost:8080/",
          "height": 34
        }
      },
      "cell_type": "code",
      "source": [
        "clf = DummyClassifier(strategy='most_frequent',random_state=0)\n",
        "clf.fit(X_train, y_train)"
      ],
      "execution_count": 0,
      "outputs": [
        {
          "output_type": "execute_result",
          "data": {
            "text/plain": [
              "DummyClassifier(constant=None, random_state=0, strategy='most_frequent')"
            ]
          },
          "metadata": {
            "tags": []
          },
          "execution_count": 65
        }
      ]
    },
    {
      "metadata": {
        "id": "lmTYdTYNlk8U",
        "colab_type": "code",
        "outputId": "88b1b630-0654-43a4-9efc-430e73ba1243",
        "colab": {
          "base_uri": "https://localhost:8080/",
          "height": 34
        }
      },
      "cell_type": "code",
      "source": [
        "accuracy = clf.score(X_test, y_test)  \n",
        "accuracy"
      ],
      "execution_count": 0,
      "outputs": [
        {
          "output_type": "execute_result",
          "data": {
            "text/plain": [
              "0.7535491198182851"
            ]
          },
          "metadata": {
            "tags": []
          },
          "execution_count": 66
        }
      ]
    },
    {
      "metadata": {
        "id": "oEz36GQ0lk8W",
        "colab_type": "code",
        "outputId": "1c537a27-ec63-447f-d558-47d77b0f9d2a",
        "colab": {
          "base_uri": "https://localhost:8080/",
          "height": 370
        }
      },
      "cell_type": "code",
      "source": [
        "preds = clf.predict(X_test)\n",
        "\n",
        "\n",
        "# dummyistic Regression\n",
        "start_time = time.time()\n",
        "train_pred_dummy, test_pred_dummy, acc_dummy, acc_cv_dummy, probs_dummy = fit_ml_algo(DummyClassifier(strategy='most_frequent',random_state=0), \n",
        "                                                                 X_train, \n",
        "                                                                 y_train, \n",
        "                                                                 X_test, \n",
        "                                                                 10)\n",
        "dummy_time = (time.time() - start_time)\n",
        "print(\"Accuracy: %s\" % acc_dummy)\n",
        "print(\"Accuracy CV 10-Fold: %s\" % acc_cv_dummy)\n",
        "print(\"Running Time: %s\" % datetime.timedelta(seconds=dummy_time))\n",
        "\n",
        "print (metrics.classification_report(y_train, train_pred_dummy))\n",
        "\n",
        "print (metrics.classification_report(y_test, test_pred_dummy))\n"
      ],
      "execution_count": 0,
      "outputs": [
        {
          "output_type": "stream",
          "text": [
            "Accuracy: 75.35\n",
            "Accuracy CV 10-Fold: 72.83\n",
            "Running Time: 0:00:01.851991\n",
            "              precision    recall  f1-score   support\n",
            "\n",
            "           0       0.73      1.00      0.84      3847\n",
            "           1       0.00      0.00      0.00      1435\n",
            "\n",
            "   micro avg       0.73      0.73      0.73      5282\n",
            "   macro avg       0.36      0.50      0.42      5282\n",
            "weighted avg       0.53      0.73      0.61      5282\n",
            "\n",
            "              precision    recall  f1-score   support\n",
            "\n",
            "           0       0.75      1.00      0.86      1327\n",
            "           1       0.00      0.00      0.00       434\n",
            "\n",
            "   micro avg       0.75      0.75      0.75      1761\n",
            "   macro avg       0.38      0.50      0.43      1761\n",
            "weighted avg       0.57      0.75      0.65      1761\n",
            "\n"
          ],
          "name": "stdout"
        }
      ]
    },
    {
      "metadata": {
        "id": "KjlVvm_Blk8Y",
        "colab_type": "text"
      },
      "cell_type": "markdown",
      "source": [
        "## Select Candidate Algorithms\n",
        "\n",
        "### 1. KNN\n",
        "### 2. Logistic Regression\n",
        "### 3. Random Forest\n",
        "### 4. Naive Bayes\n",
        "### 5. Stochastic Gradient Decent\n",
        "### 6. Linear SVC\n",
        "### 7. Decision Tree\n",
        "### 8. Gradient Boosted Trees"
      ]
    },
    {
      "metadata": {
        "id": "3w-2vzYLlk8Z",
        "colab_type": "code",
        "outputId": "dff07ece-08ad-450f-f4e0-25b2cd365385",
        "colab": {
          "base_uri": "https://localhost:8080/",
          "height": 638
        }
      },
      "cell_type": "code",
      "source": [
        "# Specify parameters and distributions to sample from\n",
        "param_dist = {'penalty': ['l2', 'l1'], \n",
        "                         'class_weight': [None, 'balanced'],\n",
        "                         'C': np.logspace(-20, 20, 10000), \n",
        "                         'intercept_scaling': np.logspace(-20, 20, 10000)}\n",
        "\n",
        "\n",
        "\n",
        "# Run Randomized Search\n",
        "n_iter_search = 10\n",
        "lrc = LogisticRegression()\n",
        "random_search = RandomizedSearchCV(lrc, \n",
        "                                   n_jobs=-1, \n",
        "                                   param_distributions=param_dist, \n",
        "                                   n_iter=n_iter_search)\n",
        "\n",
        "start = time.time()\n",
        "random_search.fit(X_train, y_train)\n",
        "print(\"RandomizedSearchCV took %.2f seconds for %d candidates\"\n",
        "      \" parameter settings.\" % ((time.time() - start), n_iter_search))\n",
        "report(random_search.cv_results_)"
      ],
      "execution_count": 0,
      "outputs": [
        {
          "output_type": "stream",
          "text": [
            "RandomizedSearchCV took 13.01 seconds for 10 candidates parameter settings.\n",
            "Model with rank: 1\n",
            "Mean validation score: 0.796 (std: 0.004)\n",
            "Parameters: {'penalty': 'l2', 'C': 415.20428433462905, 'intercept_scaling': 1.2254873450438764e-17, 'class_weight': None}\n",
            "\n",
            "Model with rank: 2\n",
            "Mean validation score: 0.796 (std: 0.005)\n",
            "Parameters: {'penalty': 'l1', 'C': 2.5109610962791613e+18, 'intercept_scaling': 0.4549522283913487, 'class_weight': None}\n",
            "\n",
            "Model with rank: 3\n",
            "Mean validation score: 0.743 (std: 0.003)\n",
            "Parameters: {'penalty': 'l1', 'C': 110510702695769.2, 'intercept_scaling': 1428615940.0879962, 'class_weight': 'balanced'}\n",
            "\n",
            "Model with rank: 3\n",
            "Mean validation score: 0.743 (std: 0.003)\n",
            "Parameters: {'penalty': 'l1', 'C': 1166558951.823186, 'intercept_scaling': 1428615940.0879962, 'class_weight': 'balanced'}\n",
            "\n",
            "Model with rank: 5\n",
            "Mean validation score: 0.728 (std: 0.000)\n",
            "Parameters: {'penalty': 'l1', 'C': 1.2064467305107723e-05, 'intercept_scaling': 4.696422680374071e+17, 'class_weight': 'balanced'}\n",
            "\n",
            "Model with rank: 5\n",
            "Mean validation score: 0.728 (std: 0.000)\n",
            "Parameters: {'penalty': 'l2', 'C': 2.113160544551764e-11, 'intercept_scaling': 2928509.685176686, 'class_weight': None}\n",
            "\n",
            "Model with rank: 5\n",
            "Mean validation score: 0.728 (std: 0.000)\n",
            "Parameters: {'penalty': 'l1', 'C': 1.097498765493059e-16, 'intercept_scaling': 2.4470275780470492e-14, 'class_weight': 'balanced'}\n",
            "\n",
            "Model with rank: 5\n",
            "Mean validation score: 0.728 (std: 0.000)\n",
            "Parameters: {'penalty': 'l2', 'C': 1.963944962308657e-09, 'intercept_scaling': 29003.221852495204, 'class_weight': None}\n",
            "\n",
            "Model with rank: 5\n",
            "Mean validation score: 0.728 (std: 0.000)\n",
            "Parameters: {'penalty': 'l2', 'C': 9.468858568438822e-18, 'intercept_scaling': 1.7746998495718445e-09, 'class_weight': None}\n",
            "\n"
          ],
          "name": "stdout"
        }
      ]
    },
    {
      "metadata": {
        "id": "7Df-iREQQmYs",
        "colab_type": "text"
      },
      "cell_type": "markdown",
      "source": [
        "### Logistic Regression"
      ]
    },
    {
      "metadata": {
        "id": "NWaPj1aClk8b",
        "colab_type": "code",
        "outputId": "98aa74aa-1e31-4ee5-b30b-13428c4641fb",
        "colab": {
          "base_uri": "https://localhost:8080/",
          "height": 729
        }
      },
      "cell_type": "code",
      "source": [
        "# Logistic Regression\n",
        "start_time = time.time()\n",
        "train_pred_log, test_pred_log, acc_log, acc_cv_log, probs_log = fit_ml_algo(LogisticRegression(n_jobs = -1), \n",
        "                                                                 X_train, \n",
        "                                                                 y_train, \n",
        "                                                                 X_test, \n",
        "                                                                 10)\n",
        "log_time = (time.time() - start_time)\n",
        "print(\"Accuracy: %s\" % acc_log)\n",
        "print(\"Accuracy CV 10-Fold: %s\" % acc_cv_log)\n",
        "print(\"Running Time: %s\" % datetime.timedelta(seconds=log_time))\n",
        "\n",
        "print (metrics.classification_report(y_train, train_pred_log))\n",
        "\n",
        "print (metrics.classification_report(y_test, test_pred_log))\n",
        "\n",
        "plot_roc_curve(y_test, probs_log)"
      ],
      "execution_count": 0,
      "outputs": [
        {
          "output_type": "stream",
          "text": [
            "Accuracy: 80.86\n",
            "Accuracy CV 10-Fold: 80.25\n",
            "Running Time: 0:00:00.541680\n",
            "              precision    recall  f1-score   support\n",
            "\n",
            "           0       0.84      0.90      0.87      3847\n",
            "           1       0.67      0.54      0.60      1435\n",
            "\n",
            "   micro avg       0.80      0.80      0.80      5282\n",
            "   macro avg       0.76      0.72      0.73      5282\n",
            "weighted avg       0.79      0.80      0.79      5282\n",
            "\n",
            "              precision    recall  f1-score   support\n",
            "\n",
            "           0       0.86      0.89      0.88      1327\n",
            "           1       0.62      0.56      0.59       434\n",
            "\n",
            "   micro avg       0.81      0.81      0.81      1761\n",
            "   macro avg       0.74      0.73      0.73      1761\n",
            "weighted avg       0.80      0.81      0.81      1761\n",
            "\n"
          ],
          "name": "stdout"
        },
        {
          "output_type": "display_data",
          "data": {
            "image/png": "[encoded data removed]",
            "text/plain": [
              "<Figure size 576x396 with 1 Axes>"
            ]
          },
          "metadata": {
            "tags": []
          }
        }
      ]
    },
    {
      "metadata": {
        "id": "gBOwrnNyQzX8",
        "colab_type": "text"
      },
      "cell_type": "markdown",
      "source": [
        "### K- Nearest Neighbors"
      ]
    },
    {
      "metadata": {
        "id": "3lxlu_9_lk8d",
        "colab_type": "code",
        "outputId": "a38189d5-70ad-4263-d146-d835b6e07b44",
        "colab": {
          "base_uri": "https://localhost:8080/",
          "height": 729
        }
      },
      "cell_type": "code",
      "source": [
        "# k-Nearest Neighbors\n",
        "start_time = time.time()\n",
        "train_pred_knn, test_pred_knn, acc_knn, acc_cv_knn, probs_knn = fit_ml_algo(KNeighborsClassifier(n_neighbors = 3,\n",
        "                                                                                                 n_jobs = -1), \n",
        "                                                                                                 X_train, \n",
        "                                                                                                 y_train, \n",
        "                                                                                                 X_test, \n",
        "                                                                                                 10)\n",
        "knn_time = (time.time() - start_time)\n",
        "print(\"Accuracy: %s\" % acc_knn)\n",
        "print(\"Accuracy CV 10-Fold: %s\" % acc_cv_knn)\n",
        "print(\"Running Time: %s\" % datetime.timedelta(seconds=knn_time))\n",
        "\n",
        "print (metrics.classification_report(y_train, train_pred_knn))\n",
        "\n",
        "print (metrics.classification_report(y_test, test_pred_knn))\n",
        "\n",
        "plot_roc_curve(y_test, probs_knn)"
      ],
      "execution_count": 0,
      "outputs": [
        {
          "output_type": "stream",
          "text": [
            "Accuracy: 74.96\n",
            "Accuracy CV 10-Fold: 75.43\n",
            "Running Time: 0:00:02.093915\n",
            "              precision    recall  f1-score   support\n",
            "\n",
            "           0       0.82      0.84      0.83      3847\n",
            "           1       0.55      0.52      0.54      1435\n",
            "\n",
            "   micro avg       0.75      0.75      0.75      5282\n",
            "   macro avg       0.69      0.68      0.68      5282\n",
            "weighted avg       0.75      0.75      0.75      5282\n",
            "\n",
            "              precision    recall  f1-score   support\n",
            "\n",
            "           0       0.84      0.82      0.83      1327\n",
            "           1       0.49      0.53      0.51       434\n",
            "\n",
            "   micro avg       0.75      0.75      0.75      1761\n",
            "   macro avg       0.67      0.67      0.67      1761\n",
            "weighted avg       0.76      0.75      0.75      1761\n",
            "\n"
          ],
          "name": "stdout"
        },
        {
          "output_type": "display_data",
          "data": {
            "image/png": "[encoded data removed]",
            "text/plain": [
              "<Figure size 576x396 with 1 Axes>"
            ]
          },
          "metadata": {
            "tags": []
          }
        }
      ]
    },
    {
      "metadata": {
        "id": "TSJTjPqnQ4bL",
        "colab_type": "text"
      },
      "cell_type": "markdown",
      "source": [
        "### Gaussian Naive Bayes"
      ]
    },
    {
      "metadata": {
        "id": "SCzshq-9lk8f",
        "colab_type": "code",
        "outputId": "18e08941-cb85-4b4f-f060-8f1180716257",
        "colab": {
          "base_uri": "https://localhost:8080/",
          "height": 729
        }
      },
      "cell_type": "code",
      "source": [
        "# Gaussian Naive Bayes\n",
        "start_time = time.time()\n",
        "train_pred_gaussian, test_pred_gaussian, acc_gaussian, acc_cv_gaussian, probs_gau = fit_ml_algo(GaussianNB(), \n",
        "                                                                                     X_train, \n",
        "                                                                                     y_train, \n",
        "                                                                                     X_test, \n",
        "                                                                                     10)\n",
        "gaussian_time = (time.time() - start_time)\n",
        "print(\"Accuracy: %s\" % acc_gaussian)\n",
        "print(\"Accuracy CV 10-Fold: %s\" % acc_cv_gaussian)\n",
        "print(\"Running Time: %s\" % datetime.timedelta(seconds=gaussian_time))\n",
        "\n",
        "print (metrics.classification_report(y_train, train_pred_gaussian)) \n",
        "\n",
        "print (metrics.classification_report(y_test, test_pred_gaussian)) \n",
        "\n",
        "plot_roc_curve(y_test, probs_gau)"
      ],
      "execution_count": 0,
      "outputs": [
        {
          "output_type": "stream",
          "text": [
            "Accuracy: 70.13\n",
            "Accuracy CV 10-Fold: 70.54\n",
            "Running Time: 0:00:00.117162\n",
            "              precision    recall  f1-score   support\n",
            "\n",
            "           0       0.91      0.66      0.77      3847\n",
            "           1       0.48      0.82      0.60      1435\n",
            "\n",
            "   micro avg       0.71      0.71      0.71      5282\n",
            "   macro avg       0.69      0.74      0.68      5282\n",
            "weighted avg       0.79      0.71      0.72      5282\n",
            "\n",
            "              precision    recall  f1-score   support\n",
            "\n",
            "           0       0.94      0.65      0.77      1327\n",
            "           1       0.45      0.87      0.59       434\n",
            "\n",
            "   micro avg       0.70      0.70      0.70      1761\n",
            "   macro avg       0.69      0.76      0.68      1761\n",
            "weighted avg       0.82      0.70      0.72      1761\n",
            "\n"
          ],
          "name": "stdout"
        },
        {
          "output_type": "display_data",
          "data": {
            "image/png": "[encoded data removed]",
            "text/plain": [
              "<Figure size 576x396 with 1 Axes>"
            ]
          },
          "metadata": {
            "tags": []
          }
        }
      ]
    },
    {
      "metadata": {
        "id": "zu8V7ftSQ84d",
        "colab_type": "text"
      },
      "cell_type": "markdown",
      "source": [
        "### Decision Tree Classifier"
      ]
    },
    {
      "metadata": {
        "id": "uIETWbwYlk8h",
        "colab_type": "code",
        "outputId": "2c90f770-7dc7-4859-c748-121f77e6da35",
        "colab": {
          "base_uri": "https://localhost:8080/",
          "height": 729
        }
      },
      "cell_type": "code",
      "source": [
        "# Decision Tree Classifier\n",
        "start_time = time.time()\n",
        "train_pred_dt, test_pred_dt, acc_dt, acc_cv_dt, probs_dt = fit_ml_algo(DecisionTreeClassifier(), \n",
        "                                                             X_train, \n",
        "                                                             y_train, \n",
        "                                                             X_test, \n",
        "                                                             10)\n",
        "dt_time = (time.time() - start_time)\n",
        "print(\"Accuracy: %s\" % acc_dt)\n",
        "print(\"Accuracy CV 10-Fold: %s\" % acc_cv_dt)\n",
        "print(\"Running Time: %s\" % datetime.timedelta(seconds=dt_time))\n",
        "\n",
        "print (metrics.classification_report(y_train, train_pred_dt))\n",
        "\n",
        "print (metrics.classification_report(y_test, test_pred_dt))\n",
        "\n",
        "plot_roc_curve(y_test, probs_dt)"
      ],
      "execution_count": 0,
      "outputs": [
        {
          "output_type": "stream",
          "text": [
            "Accuracy: 74.28\n",
            "Accuracy CV 10-Fold: 72.4\n",
            "Running Time: 0:00:00.376805\n",
            "              precision    recall  f1-score   support\n",
            "\n",
            "           0       0.81      0.81      0.81      3847\n",
            "           1       0.49      0.50      0.50      1435\n",
            "\n",
            "   micro avg       0.72      0.72      0.72      5282\n",
            "   macro avg       0.65      0.65      0.65      5282\n",
            "weighted avg       0.73      0.72      0.72      5282\n",
            "\n",
            "              precision    recall  f1-score   support\n",
            "\n",
            "           0       0.85      0.81      0.83      1327\n",
            "           1       0.48      0.55      0.51       434\n",
            "\n",
            "   micro avg       0.74      0.74      0.74      1761\n",
            "   macro avg       0.66      0.68      0.67      1761\n",
            "weighted avg       0.76      0.74      0.75      1761\n",
            "\n"
          ],
          "name": "stdout"
        },
        {
          "output_type": "display_data",
          "data": {
            "image/png": "[encoded data removed]",
            "text/plain": [
              "<Figure size 576x396 with 1 Axes>"
            ]
          },
          "metadata": {
            "tags": []
          }
        }
      ]
    },
    {
      "metadata": {
        "id": "qeYIjThcRAxj",
        "colab_type": "text"
      },
      "cell_type": "markdown",
      "source": [
        "### Random Forest Classifier"
      ]
    },
    {
      "metadata": {
        "id": "thj1ZcVylk8i",
        "colab_type": "code",
        "outputId": "5378af2d-3bf5-4796-d63f-1bfd41861006",
        "colab": {
          "base_uri": "https://localhost:8080/",
          "height": 370
        }
      },
      "cell_type": "code",
      "source": [
        "# Random Forest Classifier - Random Search for Hyperparameters\n",
        "\n",
        "# Utility function to report best scores\n",
        "def report(results, n_top=5):\n",
        "    for i in range(1, n_top + 1):\n",
        "        candidates = np.flatnonzero(results['rank_test_score'] == i)\n",
        "        for candidate in candidates:\n",
        "            print(\"Model with rank: {0}\".format(i))\n",
        "            print(\"Mean validation score: {0:.3f} (std: {1:.3f})\".format(\n",
        "                  results['mean_test_score'][candidate],\n",
        "                  results['std_test_score'][candidate]))\n",
        "            print(\"Parameters: {0}\".format(results['params'][candidate]))\n",
        "            print(\"\")\n",
        "            \n",
        "# Specify parameters and distributions to sample from\n",
        "param_dist = {\"max_depth\": [10, None],\n",
        "              \"max_features\": sp_randint(1, 11),\n",
        "              \"min_samples_split\": sp_randint(2, 20),\n",
        "              \"min_samples_leaf\": sp_randint(1, 11),\n",
        "              \"bootstrap\": [True, False],\n",
        "              \"criterion\": [\"gini\", \"entropy\"]}\n",
        "\n",
        "\n",
        "# Run Randomized Search\n",
        "n_iter_search = 10\n",
        "rfc = RandomForestClassifier(n_estimators=10)\n",
        "random_search = RandomizedSearchCV(rfc, \n",
        "                                   n_jobs = -1, \n",
        "                                   param_distributions=param_dist, \n",
        "                                   n_iter=n_iter_search)\n",
        "\n",
        "start = time.time()\n",
        "random_search.fit(X_train, y_train)\n",
        "print(\"RandomizedSearchCV took %.2f seconds for %d candidates\"\n",
        "      \" parameter settings.\" % ((time.time() - start), n_iter_search))\n",
        "report(random_search.cv_results_)"
      ],
      "execution_count": 0,
      "outputs": [
        {
          "output_type": "stream",
          "text": [
            "RandomizedSearchCV took 1.86 seconds for 10 candidates parameter settings.\n",
            "Model with rank: 1\n",
            "Mean validation score: 0.800 (std: 0.001)\n",
            "Parameters: {'bootstrap': False, 'min_samples_leaf': 5, 'min_samples_split': 16, 'criterion': 'gini', 'max_features': 3, 'max_depth': None}\n",
            "\n",
            "Model with rank: 2\n",
            "Mean validation score: 0.796 (std: 0.001)\n",
            "Parameters: {'bootstrap': True, 'min_samples_leaf': 9, 'min_samples_split': 13, 'criterion': 'entropy', 'max_features': 8, 'max_depth': 10}\n",
            "\n",
            "Model with rank: 3\n",
            "Mean validation score: 0.794 (std: 0.003)\n",
            "Parameters: {'bootstrap': True, 'min_samples_leaf': 8, 'min_samples_split': 11, 'criterion': 'entropy', 'max_features': 10, 'max_depth': None}\n",
            "\n",
            "Model with rank: 3\n",
            "Mean validation score: 0.794 (std: 0.003)\n",
            "Parameters: {'bootstrap': False, 'min_samples_leaf': 8, 'min_samples_split': 5, 'criterion': 'entropy', 'max_features': 6, 'max_depth': None}\n",
            "\n",
            "Model with rank: 5\n",
            "Mean validation score: 0.794 (std: 0.008)\n",
            "Parameters: {'bootstrap': True, 'min_samples_leaf': 1, 'min_samples_split': 15, 'criterion': 'entropy', 'max_features': 7, 'max_depth': 10}\n",
            "\n"
          ],
          "name": "stdout"
        }
      ]
    },
    {
      "metadata": {
        "id": "10paF2A-lk8l",
        "colab_type": "code",
        "outputId": "7cb3c55c-1efe-4fcf-b810-d8266d9c182e",
        "colab": {
          "base_uri": "https://localhost:8080/",
          "height": 729
        }
      },
      "cell_type": "code",
      "source": [
        "# Random Forest Classifier\n",
        "start_time = time.time()\n",
        "rfc = RandomForestClassifier(n_estimators=10, \n",
        "                             min_samples_leaf=2,\n",
        "                             min_samples_split=17, \n",
        "                             criterion='gini', \n",
        "                             max_features=8)\n",
        "train_pred_rf, test_pred_rf, acc_rf, acc_cv_rf, probs_rf = fit_ml_algo(rfc, \n",
        "                                                             X_train, \n",
        "                                                             y_train, \n",
        "                                                             X_test, \n",
        "                                                             10)\n",
        "rf_time = (time.time() - start_time)\n",
        "print(\"Accuracy: %s\" % acc_rf)\n",
        "print(\"Accuracy CV 10-Fold: %s\" % acc_cv_rf)\n",
        "print(\"Running Time: %s\" % datetime.timedelta(seconds=rf_time))\n",
        "\n",
        "print (metrics.classification_report(y_train, train_pred_rf)) \n",
        "\n",
        "print (metrics.classification_report(y_test, test_pred_rf))\n",
        "\n",
        "plot_roc_curve(y_test, probs_rf)"
      ],
      "execution_count": 0,
      "outputs": [
        {
          "output_type": "stream",
          "text": [
            "Accuracy: 80.47\n",
            "Accuracy CV 10-Fold: 79.42\n",
            "Running Time: 0:00:00.680967\n",
            "              precision    recall  f1-score   support\n",
            "\n",
            "           0       0.83      0.90      0.86      3847\n",
            "           1       0.66      0.51      0.57      1435\n",
            "\n",
            "   micro avg       0.79      0.79      0.79      5282\n",
            "   macro avg       0.74      0.71      0.72      5282\n",
            "weighted avg       0.78      0.79      0.79      5282\n",
            "\n",
            "              precision    recall  f1-score   support\n",
            "\n",
            "           0       0.86      0.89      0.87      1327\n",
            "           1       0.62      0.55      0.58       434\n",
            "\n",
            "   micro avg       0.80      0.80      0.80      1761\n",
            "   macro avg       0.74      0.72      0.73      1761\n",
            "weighted avg       0.80      0.80      0.80      1761\n",
            "\n"
          ],
          "name": "stdout"
        },
        {
          "output_type": "display_data",
          "data": {
            "image/png": "[encoded data removed]",
            "text/plain": [
              "<Figure size 576x396 with 1 Axes>"
            ]
          },
          "metadata": {
            "tags": []
          }
        }
      ]
    },
    {
      "metadata": {
        "id": "uJDms3QfRGIj",
        "colab_type": "text"
      },
      "cell_type": "markdown",
      "source": [
        "### Gradient Boosting Trees"
      ]
    },
    {
      "metadata": {
        "id": "REPiuNLtlk8p",
        "colab_type": "code",
        "outputId": "b21d5d67-18d0-4b13-fa74-287bfb2336e1",
        "colab": {
          "base_uri": "https://localhost:8080/",
          "height": 729
        }
      },
      "cell_type": "code",
      "source": [
        "# Gradient Boosting Trees\n",
        "start_time = time.time()\n",
        "train_pred_gbt, test_pred_gbt, acc_gbt, acc_cv_gbt, probs_gbt = fit_ml_algo(GradientBoostingClassifier(), \n",
        "                                                                 X_train, \n",
        "                                                                 y_train, \n",
        "                                                                 X_test, \n",
        "                                                                 10)\n",
        "gbt_time = (time.time() - start_time)\n",
        "print(\"Accuracy: %s\" % acc_gbt)\n",
        "print(\"Accuracy CV 10-Fold: %s\" % acc_cv_gbt)\n",
        "print(\"Running Time: %s\" % datetime.timedelta(seconds=gbt_time))\n",
        "\n",
        "print (metrics.classification_report(y_train, train_pred_gbt)) \n",
        "\n",
        "print (metrics.classification_report(y_test, test_pred_gbt))\n",
        "\n",
        "plot_roc_curve(y_test, probs_gbt)"
      ],
      "execution_count": 0,
      "outputs": [
        {
          "output_type": "stream",
          "text": [
            "Accuracy: 80.52\n",
            "Accuracy CV 10-Fold: 80.25\n",
            "Running Time: 0:00:06.894962\n",
            "              precision    recall  f1-score   support\n",
            "\n",
            "           0       0.84      0.90      0.87      3847\n",
            "           1       0.67      0.54      0.60      1435\n",
            "\n",
            "   micro avg       0.80      0.80      0.80      5282\n",
            "   macro avg       0.75      0.72      0.73      5282\n",
            "weighted avg       0.79      0.80      0.80      5282\n",
            "\n",
            "              precision    recall  f1-score   support\n",
            "\n",
            "           0       0.86      0.88      0.87      1327\n",
            "           1       0.61      0.56      0.59       434\n",
            "\n",
            "   micro avg       0.81      0.81      0.81      1761\n",
            "   macro avg       0.74      0.72      0.73      1761\n",
            "weighted avg       0.80      0.81      0.80      1761\n",
            "\n"
          ],
          "name": "stdout"
        },
        {
          "output_type": "display_data",
          "data": {
            "image/png": "[encoded data removed]",
            "text/plain": [
              "<Figure size 576x396 with 1 Axes>"
            ]
          },
          "metadata": {
            "tags": []
          }
        }
      ]
    },
    {
      "metadata": {
        "id": "V4RpcJX2lk8q",
        "colab_type": "code",
        "outputId": "f91004c1-8aec-41cb-e628-e4bbb3469597",
        "colab": {
          "base_uri": "https://localhost:8080/",
          "height": 622
        }
      },
      "cell_type": "code",
      "source": [
        "def xgb_f1(y, t):\n",
        "    #\n",
        "    # Function to evaluate the prediction based on F1 score, this will be used as evaluation metric when training xgboost model\n",
        "    # Args:\n",
        "    #   y: label\n",
        "    #   t: predicted\n",
        "    #\n",
        "    # Return:\n",
        "    #   f1: F1 score of the actual and predicted\n",
        "    #\n",
        "    t = t.get_label()\n",
        "    y_bin = [1. if y_cont > 0.5 else 0. for y_cont in y]   # change the prob to class output\n",
        "    return 'f1', f1_score(t, y_bin)\n",
        "\n",
        "best_xgb = XGBClassifier(objective = 'binary:logistic',\n",
        "                         colsample_bylevel = 0.7,\n",
        "                         colsample_bytree = 0.8,\n",
        "                         gamma = 1,\n",
        "                         learning_rate = 0.15,\n",
        "                         max_delta_step = 3,\n",
        "                         max_depth = 4,\n",
        "                         min_child_weight = 1,\n",
        "                         n_estimators = 50,\n",
        "                         reg_lambda = 10,\n",
        "                         scale_pos_weight = 1.5,\n",
        "                         subsample = 0.9,\n",
        "                         silent = False,\n",
        "                         n_jobs = 4\n",
        "                        )\n",
        "\n",
        "xgbst = best_xgb.fit(X_train, y_train, eval_metric = xgb_f1, eval_set = [(X_train, y_train), (X_test, y_test)], \n",
        "             early_stopping_rounds = 20)"
      ],
      "execution_count": 0,
      "outputs": [
        {
          "output_type": "stream",
          "text": [
            "[0]\tvalidation_0-error:0.227187\tvalidation_1-error:0.20954\tvalidation_0-f1:0.604222\tvalidation_1-f1:0.612802\n",
            "Multiple eval metrics have been passed: 'validation_1-f1' will be used for early stopping.\n",
            "\n",
            "Will train until validation_1-f1 hasn't improved in 20 rounds.\n",
            "[1]\tvalidation_0-error:0.20674\tvalidation_1-error:0.198751\tvalidation_0-f1:0.625771\tvalidation_1-f1:0.62039\n",
            "[2]\tvalidation_0-error:0.216774\tvalidation_1-error:0.218626\tvalidation_0-f1:0.638459\tvalidation_1-f1:0.619189\n",
            "[3]\tvalidation_0-error:0.213177\tvalidation_1-error:0.220329\tvalidation_0-f1:0.645243\tvalidation_1-f1:0.61811\n",
            "[4]\tvalidation_0-error:0.20939\tvalidation_1-error:0.220329\tvalidation_0-f1:0.65\tvalidation_1-f1:0.619608\n",
            "[5]\tvalidation_0-error:0.207119\tvalidation_1-error:0.220897\tvalidation_0-f1:0.645266\tvalidation_1-f1:0.609045\n",
            "[6]\tvalidation_0-error:0.207686\tvalidation_1-error:0.211244\tvalidation_0-f1:0.640446\tvalidation_1-f1:0.61807\n",
            "[7]\tvalidation_0-error:0.204468\tvalidation_1-error:0.216922\tvalidation_0-f1:0.643093\tvalidation_1-f1:0.606996\n",
            "[8]\tvalidation_0-error:0.204468\tvalidation_1-error:0.21749\tvalidation_0-f1:0.643329\tvalidation_1-f1:0.605561\n",
            "[9]\tvalidation_0-error:0.205225\tvalidation_1-error:0.221465\tvalidation_0-f1:0.643655\tvalidation_1-f1:0.597107\n",
            "[10]\tvalidation_0-error:0.206172\tvalidation_1-error:0.218058\tvalidation_0-f1:0.640713\tvalidation_1-f1:0.603306\n",
            "[11]\tvalidation_0-error:0.203711\tvalidation_1-error:0.212379\tvalidation_0-f1:0.643944\tvalidation_1-f1:0.610417\n",
            "[12]\tvalidation_0-error:0.205036\tvalidation_1-error:0.212947\tvalidation_0-f1:0.640558\tvalidation_1-f1:0.609781\n",
            "[13]\tvalidation_0-error:0.204657\tvalidation_1-error:0.207836\tvalidation_0-f1:0.640983\tvalidation_1-f1:0.616352\n",
            "[14]\tvalidation_0-error:0.203711\tvalidation_1-error:0.202726\tvalidation_0-f1:0.639652\tvalidation_1-f1:0.620616\n",
            "[15]\tvalidation_0-error:0.200682\tvalidation_1-error:0.207836\tvalidation_0-f1:0.645485\tvalidation_1-f1:0.613108\n",
            "[16]\tvalidation_0-error:0.199356\tvalidation_1-error:0.208972\tvalidation_0-f1:0.647472\tvalidation_1-f1:0.612632\n",
            "[17]\tvalidation_0-error:0.199546\tvalidation_1-error:0.207836\tvalidation_0-f1:0.645833\tvalidation_1-f1:0.614737\n",
            "[18]\tvalidation_0-error:0.198788\tvalidation_1-error:0.203861\tvalidation_0-f1:0.646703\tvalidation_1-f1:0.620908\n",
            "[19]\tvalidation_0-error:0.19822\tvalidation_1-error:0.203861\tvalidation_0-f1:0.64688\tvalidation_1-f1:0.620908\n",
            "[20]\tvalidation_0-error:0.19841\tvalidation_1-error:0.202158\tvalidation_0-f1:0.648086\tvalidation_1-f1:0.622081\n",
            "[21]\tvalidation_0-error:0.196516\tvalidation_1-error:0.204997\tvalidation_0-f1:0.651911\tvalidation_1-f1:0.6204\n",
            "[22]\tvalidation_0-error:0.196706\tvalidation_1-error:0.204997\tvalidation_0-f1:0.650051\tvalidation_1-f1:0.617179\n",
            "[23]\tvalidation_0-error:0.196138\tvalidation_1-error:0.206701\tvalidation_0-f1:0.651413\tvalidation_1-f1:0.615222\n",
            "[24]\tvalidation_0-error:0.194055\tvalidation_1-error:0.203861\tvalidation_0-f1:0.65523\tvalidation_1-f1:0.621707\n",
            "[25]\tvalidation_0-error:0.192919\tvalidation_1-error:0.203294\tvalidation_0-f1:0.658168\tvalidation_1-f1:0.62395\n",
            "[26]\tvalidation_0-error:0.194434\tvalidation_1-error:0.20159\tvalidation_0-f1:0.655022\tvalidation_1-f1:0.625922\n",
            "[27]\tvalidation_0-error:0.191783\tvalidation_1-error:0.201022\tvalidation_0-f1:0.658808\tvalidation_1-f1:0.625793\n",
            "[28]\tvalidation_0-error:0.19273\tvalidation_1-error:0.20159\tvalidation_0-f1:0.657008\tvalidation_1-f1:0.625132\n",
            "[29]\tvalidation_0-error:0.191973\tvalidation_1-error:0.204997\tvalidation_0-f1:0.657432\tvalidation_1-f1:0.6204\n",
            "Stopping. Best iteration:\n",
            "[9]\tvalidation_0-error:0.205225\tvalidation_1-error:0.221465\tvalidation_0-f1:0.643655\tvalidation_1-f1:0.597107\n",
            "\n"
          ],
          "name": "stdout"
        }
      ]
    },
    {
      "metadata": {
        "id": "f21dn0ljlk8s",
        "colab_type": "code",
        "colab": {}
      },
      "cell_type": "code",
      "source": [
        "train_pred_xgbst, test_pred_xgbst, acc_xgbst, acc_cv_xgbst, probs_xgbst = fit_ml_algo(xgbst, \n",
        "                                                             X_train, \n",
        "                                                             y_train, \n",
        "                                                             X_test, \n",
        "                                                             10)"
      ],
      "execution_count": 0,
      "outputs": []
    },
    {
      "metadata": {
        "id": "UsWTAghJlk8v",
        "colab_type": "code",
        "outputId": "aee7ad6c-e4aa-4445-a54b-4c9f62fea40b",
        "colab": {
          "base_uri": "https://localhost:8080/",
          "height": 376
        }
      },
      "cell_type": "code",
      "source": [
        "import xgboost as xgb\n",
        "xgb.plot_importance(best_xgb, max_num_features = 15)\n",
        "plt.show();"
      ],
      "execution_count": 0,
      "outputs": [
        {
          "output_type": "display_data",
          "data": {
            "image/png": "[encoded data removed]",
            "text/plain": [
              "<Figure size 576x396 with 1 Axes>"
            ]
          },
          "metadata": {
            "tags": []
          }
        }
      ]
    },
    {
      "metadata": {
        "id": "x5GqWSOulk8x",
        "colab_type": "text"
      },
      "cell_type": "markdown",
      "source": [
        "## <a id='' > Compare all models & Conclusion </a>"
      ]
    },
    {
      "metadata": {
        "id": "Sue_7CJ1-0HJ",
        "colab_type": "text"
      },
      "cell_type": "markdown",
      "source": [
        "### To compare we first plot the AUC"
      ]
    },
    {
      "metadata": {
        "id": "thps4biMlk81",
        "colab_type": "code",
        "colab": {}
      },
      "cell_type": "code",
      "source": [
        "\n",
        "models = [\n",
        "    'KNN', \n",
        "    'Logistic Regression', \n",
        "    'Random Forest', \n",
        "    'Naive Bayes', \n",
        "    'Decision Tree', \n",
        "    'Gradient Boosting Trees',\n",
        "    \n",
        "]\n",
        "probs = [\n",
        "    probs_knn,\n",
        "    probs_log,\n",
        "    probs_rf,\n",
        "    probs_gau,\n",
        "    probs_dt,\n",
        "    probs_gbt\n",
        "]\n",
        "colors = [\n",
        "    'blue',\n",
        "    'green',\n",
        "    'red',\n",
        "    'cyan',\n",
        "    'magenta',\n",
        "    'yellow',\n",
        "    'black',\n",
        "]"
      ],
      "execution_count": 0,
      "outputs": []
    },
    {
      "metadata": {
        "id": "5dxxiqLDlk82",
        "colab_type": "code",
        "outputId": "bd44cd01-8b96-4fc1-92cb-170bf9c5dd22",
        "colab": {
          "base_uri": "https://localhost:8080/",
          "height": 347
        }
      },
      "cell_type": "code",
      "source": [
        "def plot_roc_curves(y_test, prob, model):\n",
        "    fpr, tpr, threshold = metrics.roc_curve(y_test, prob)\n",
        "    roc_auc = metrics.auc(fpr, tpr)\n",
        "    plt.plot(fpr, tpr, 'b', label = model + ' AUC = %0.2f' % roc_auc, color=colors[i])\n",
        "    plt.legend(loc = 'lower right')\n",
        "    \n",
        "for i, model in list(enumerate(models)):\n",
        "    plot_roc_curves(y_test, probs[i], models[i])\n",
        "    \n",
        "plt.show()"
      ],
      "execution_count": 0,
      "outputs": [
        {
          "output_type": "display_data",
          "data": {
            "image/png": "[encoded data removed]",
            "text/plain": [
              "<Figure size 576x396 with 1 Axes>"
            ]
          },
          "metadata": {
            "tags": []
          }
        }
      ]
    },
    {
      "metadata": {
        "id": "BgWvO7MF7kDH",
        "colab_type": "text"
      },
      "cell_type": "markdown",
      "source": [
        "AUC ;Area under the ROC Curve measures the entire two-dimensional area underneath the entire ROC curve from (0,0) to (1,1). AUC provides an aggregate measure of performance across all possible classification thresholds. It is the probability that the model ranks a random positive example more highly than a random negative example. AUC ranges in value from 0 to 1. A model whose predictions are 100% wrong has an AUC of 0.0; one whose predictions are 100% correct has an AUC of 1.0.\n",
        "\n",
        "### Here we can see that Logistic Regression, Gradient Boosting Trees , Random Forest and Naive Bayes are to choose from where AUC is higher"
      ]
    },
    {
      "metadata": {
        "id": "wJu63dColk8y",
        "colab_type": "code",
        "outputId": "08b2dfb6-1064-4559-8223-ceb9409b4038",
        "colab": {
          "base_uri": "https://localhost:8080/",
          "height": 225
        }
      },
      "cell_type": "code",
      "source": [
        "models = pd.DataFrame({\n",
        "    'Model': ['KNN', 'Logistic Regression', \n",
        "              'Random Forest', 'Naive Bayes', \n",
        "              'Decision Tree', 'Gradient Boosting Trees'],\n",
        "    'Score': [\n",
        "        acc_knn, acc_log, acc_rf, \n",
        "        acc_gaussian, acc_dt, acc_gbt],\n",
        "        \n",
        "     'Log_Loss' : [\n",
        "        datetime.timedelta(seconds=knn_time),\n",
        "        datetime.timedelta(seconds=log_time),\n",
        "        datetime.timedelta(seconds=rf_time),\n",
        "        datetime.timedelta(seconds=gaussian_time),\n",
        "        datetime.timedelta(seconds=dt_time),\n",
        "        datetime.timedelta(seconds=gbt_time)],        \n",
        "    })\n",
        "models.sort_values(by=['Score','Log_Loss'], ascending=False)\n"
      ],
      "execution_count": 0,
      "outputs": [
        {
          "output_type": "execute_result",
          "data": {
            "text/html": [
              "<div>\n",
              "<style scoped>\n",
              "    .dataframe tbody tr th:only-of-type {\n",
              "        vertical-align: middle;\n",
              "    }\n",
              "\n",
              "    .dataframe tbody tr th {\n",
              "        vertical-align: top;\n",
              "    }\n",
              "\n",
              "    .dataframe thead th {\n",
              "        text-align: right;\n",
              "    }\n",
              "</style>\n",
              "<table border=\"1\" class=\"dataframe\">\n",
              "  <thead>\n",
              "    <tr style=\"text-align: right;\">\n",
              "      <th></th>\n",
              "      <th>Log_Loss</th>\n",
              "      <th>Model</th>\n",
              "      <th>Score</th>\n",
              "    </tr>\n",
              "  </thead>\n",
              "  <tbody>\n",
              "    <tr>\n",
              "      <th>1</th>\n",
              "      <td>00:00:00.541680</td>\n",
              "      <td>Logistic Regression</td>\n",
              "      <td>80.86</td>\n",
              "    </tr>\n",
              "    <tr>\n",
              "      <th>5</th>\n",
              "      <td>00:00:06.894962</td>\n",
              "      <td>Gradient Boosting Trees</td>\n",
              "      <td>80.52</td>\n",
              "    </tr>\n",
              "    <tr>\n",
              "      <th>2</th>\n",
              "      <td>00:00:00.680967</td>\n",
              "      <td>Random Forest</td>\n",
              "      <td>80.47</td>\n",
              "    </tr>\n",
              "    <tr>\n",
              "      <th>0</th>\n",
              "      <td>00:00:02.093915</td>\n",
              "      <td>KNN</td>\n",
              "      <td>74.96</td>\n",
              "    </tr>\n",
              "    <tr>\n",
              "      <th>4</th>\n",
              "      <td>00:00:00.376805</td>\n",
              "      <td>Decision Tree</td>\n",
              "      <td>74.28</td>\n",
              "    </tr>\n",
              "    <tr>\n",
              "      <th>3</th>\n",
              "      <td>00:00:00.117162</td>\n",
              "      <td>Naive Bayes</td>\n",
              "      <td>70.13</td>\n",
              "    </tr>\n",
              "  </tbody>\n",
              "</table>\n",
              "</div>"
            ],
            "text/plain": [
              "         Log_Loss                    Model  Score\n",
              "1 00:00:00.541680      Logistic Regression  80.86\n",
              "5 00:00:06.894962  Gradient Boosting Trees  80.52\n",
              "2 00:00:00.680967            Random Forest  80.47\n",
              "0 00:00:02.093915                      KNN  74.96\n",
              "4 00:00:00.376805            Decision Tree  74.28\n",
              "3 00:00:00.117162              Naive Bayes  70.13"
            ]
          },
          "metadata": {
            "tags": []
          },
          "execution_count": 90
        }
      ]
    },
    {
      "metadata": {
        "id": "kIBPRTJrD5B4",
        "colab_type": "code",
        "outputId": "36c09d33-734d-4d99-ed02-e356a78afe73",
        "colab": {
          "base_uri": "https://localhost:8080/",
          "height": 376
        }
      },
      "cell_type": "code",
      "source": [
        "sns.set_color_codes(\"muted\")\n",
        "sns.barplot(x='Log_Loss', y='Model', data=models, color=\"g\")\n",
        "\n",
        "plt.xlabel('Log Loss')\n",
        "plt.title('Classifier Log Loss')\n",
        "plt.show()"
      ],
      "execution_count": 0,
      "outputs": [
        {
          "output_type": "display_data",
          "data": {
            "image/png": "[encoded data removed]",
            "text/plain": [
              "<Figure size 576x396 with 1 Axes>"
            ]
          },
          "metadata": {
            "tags": []
          }
        }
      ]
    },
    {
      "metadata": {
        "id": "jphFBhjXlk85",
        "colab_type": "text"
      },
      "cell_type": "markdown",
      "source": [
        "## Conclusion \n",
        "\n",
        "### Logistic Regression is having advantage over the others with higher AUC, lower Log Loss. With its simple in nature and would be useful in production because of lower loss. I choose the \" Logistic Regression\" model for the given dataset.\n",
        "\n",
        "\n"
      ]
    }
  ]
}